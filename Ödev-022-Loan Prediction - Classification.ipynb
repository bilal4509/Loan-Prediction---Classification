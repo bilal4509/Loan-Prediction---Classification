{
 "cells": [
  {
   "cell_type": "markdown",
   "id": "b1b8a0b0",
   "metadata": {},
   "source": [
    "## Müşteriye kredi verilip verilmeyeceğini tahmin etme"
   ]
  },
  {
   "cell_type": "code",
   "execution_count": 9,
   "id": "27cd9850",
   "metadata": {},
   "outputs": [],
   "source": [
    "import pandas as pd\n",
    "import matplotlib.pyplot as plt\n",
    "#pembe uyarıları kapatmak için\n",
    "import warnings\n",
    "warnings.filterwarnings('ignore')"
   ]
  },
  {
   "cell_type": "code",
   "execution_count": 10,
   "id": "39651c30",
   "metadata": {},
   "outputs": [],
   "source": [
    "df = pd.read_csv(\"LoansTrainingSet.csv\")"
   ]
  },
  {
   "cell_type": "code",
   "execution_count": 11,
   "id": "611ce048",
   "metadata": {},
   "outputs": [],
   "source": [
    "#EDA"
   ]
  },
  {
   "cell_type": "code",
   "execution_count": 12,
   "id": "d4e0ed31",
   "metadata": {},
   "outputs": [
    {
     "data": {
      "text/html": [
       "<div>\n",
       "<style scoped>\n",
       "    .dataframe tbody tr th:only-of-type {\n",
       "        vertical-align: middle;\n",
       "    }\n",
       "\n",
       "    .dataframe tbody tr th {\n",
       "        vertical-align: top;\n",
       "    }\n",
       "\n",
       "    .dataframe thead th {\n",
       "        text-align: right;\n",
       "    }\n",
       "</style>\n",
       "<table border=\"1\" class=\"dataframe\">\n",
       "  <thead>\n",
       "    <tr style=\"text-align: right;\">\n",
       "      <th></th>\n",
       "      <th>Loan ID</th>\n",
       "      <th>Customer ID</th>\n",
       "      <th>Loan Status</th>\n",
       "      <th>Current Loan Amount</th>\n",
       "      <th>Term</th>\n",
       "      <th>Credit Score</th>\n",
       "      <th>Years in current job</th>\n",
       "      <th>Home Ownership</th>\n",
       "      <th>Annual Income</th>\n",
       "      <th>Purpose</th>\n",
       "      <th>Monthly Debt</th>\n",
       "      <th>Years of Credit History</th>\n",
       "      <th>Months since last delinquent</th>\n",
       "      <th>Number of Open Accounts</th>\n",
       "      <th>Number of Credit Problems</th>\n",
       "      <th>Current Credit Balance</th>\n",
       "      <th>Maximum Open Credit</th>\n",
       "      <th>Bankruptcies</th>\n",
       "      <th>Tax Liens</th>\n",
       "    </tr>\n",
       "  </thead>\n",
       "  <tbody>\n",
       "    <tr>\n",
       "      <th>0</th>\n",
       "      <td>000025bb-5694-4cff-b17d-192b1a98ba44</td>\n",
       "      <td>5ebc8bb1-5eb9-4404-b11b-a6eebc401a19</td>\n",
       "      <td>Fully Paid</td>\n",
       "      <td>11520</td>\n",
       "      <td>Short Term</td>\n",
       "      <td>741.0</td>\n",
       "      <td>10+ years</td>\n",
       "      <td>Home Mortgage</td>\n",
       "      <td>33694.0</td>\n",
       "      <td>Debt Consolidation</td>\n",
       "      <td>$584.03</td>\n",
       "      <td>12.3</td>\n",
       "      <td>41.0</td>\n",
       "      <td>10</td>\n",
       "      <td>0</td>\n",
       "      <td>6760</td>\n",
       "      <td>16056</td>\n",
       "      <td>0.0</td>\n",
       "      <td>0.0</td>\n",
       "    </tr>\n",
       "    <tr>\n",
       "      <th>1</th>\n",
       "      <td>00002c49-3a29-4bd4-8f67-c8f8fbc1048c</td>\n",
       "      <td>927b388d-2e01-423f-a8dc-f7e42d668f46</td>\n",
       "      <td>Fully Paid</td>\n",
       "      <td>3441</td>\n",
       "      <td>Short Term</td>\n",
       "      <td>734.0</td>\n",
       "      <td>4 years</td>\n",
       "      <td>Home Mortgage</td>\n",
       "      <td>42269.0</td>\n",
       "      <td>other</td>\n",
       "      <td>$1,106.04</td>\n",
       "      <td>26.3</td>\n",
       "      <td>NaN</td>\n",
       "      <td>17</td>\n",
       "      <td>0</td>\n",
       "      <td>6262</td>\n",
       "      <td>19149</td>\n",
       "      <td>0.0</td>\n",
       "      <td>0.0</td>\n",
       "    </tr>\n",
       "    <tr>\n",
       "      <th>2</th>\n",
       "      <td>00002d89-27f3-409b-aa76-90834f359a65</td>\n",
       "      <td>defce609-c631-447d-aad6-1270615e89c4</td>\n",
       "      <td>Fully Paid</td>\n",
       "      <td>21029</td>\n",
       "      <td>Short Term</td>\n",
       "      <td>747.0</td>\n",
       "      <td>10+ years</td>\n",
       "      <td>Home Mortgage</td>\n",
       "      <td>90126.0</td>\n",
       "      <td>Debt Consolidation</td>\n",
       "      <td>$1,321.85</td>\n",
       "      <td>28.8</td>\n",
       "      <td>NaN</td>\n",
       "      <td>5</td>\n",
       "      <td>0</td>\n",
       "      <td>20967</td>\n",
       "      <td>28335</td>\n",
       "      <td>0.0</td>\n",
       "      <td>0.0</td>\n",
       "    </tr>\n",
       "    <tr>\n",
       "      <th>3</th>\n",
       "      <td>00005222-b4d8-45a4-ad8c-186057e24233</td>\n",
       "      <td>070bcecb-aae7-4485-a26a-e0403e7bb6c5</td>\n",
       "      <td>Fully Paid</td>\n",
       "      <td>18743</td>\n",
       "      <td>Short Term</td>\n",
       "      <td>747.0</td>\n",
       "      <td>10+ years</td>\n",
       "      <td>Own Home</td>\n",
       "      <td>38072.0</td>\n",
       "      <td>Debt Consolidation</td>\n",
       "      <td>$751.92</td>\n",
       "      <td>26.2</td>\n",
       "      <td>NaN</td>\n",
       "      <td>9</td>\n",
       "      <td>0</td>\n",
       "      <td>22529</td>\n",
       "      <td>43915</td>\n",
       "      <td>0.0</td>\n",
       "      <td>0.0</td>\n",
       "    </tr>\n",
       "    <tr>\n",
       "      <th>4</th>\n",
       "      <td>0000757f-a121-41ed-b17b-162e76647c1f</td>\n",
       "      <td>dde79588-12f0-4811-bab0-e2b07f633fcd</td>\n",
       "      <td>Fully Paid</td>\n",
       "      <td>11731</td>\n",
       "      <td>Short Term</td>\n",
       "      <td>746.0</td>\n",
       "      <td>4 years</td>\n",
       "      <td>Rent</td>\n",
       "      <td>50025.0</td>\n",
       "      <td>Debt Consolidation</td>\n",
       "      <td>$355.18</td>\n",
       "      <td>11.5</td>\n",
       "      <td>NaN</td>\n",
       "      <td>12</td>\n",
       "      <td>0</td>\n",
       "      <td>17391</td>\n",
       "      <td>37081</td>\n",
       "      <td>0.0</td>\n",
       "      <td>0.0</td>\n",
       "    </tr>\n",
       "  </tbody>\n",
       "</table>\n",
       "</div>"
      ],
      "text/plain": [
       "                                Loan ID                           Customer ID  \\\n",
       "0  000025bb-5694-4cff-b17d-192b1a98ba44  5ebc8bb1-5eb9-4404-b11b-a6eebc401a19   \n",
       "1  00002c49-3a29-4bd4-8f67-c8f8fbc1048c  927b388d-2e01-423f-a8dc-f7e42d668f46   \n",
       "2  00002d89-27f3-409b-aa76-90834f359a65  defce609-c631-447d-aad6-1270615e89c4   \n",
       "3  00005222-b4d8-45a4-ad8c-186057e24233  070bcecb-aae7-4485-a26a-e0403e7bb6c5   \n",
       "4  0000757f-a121-41ed-b17b-162e76647c1f  dde79588-12f0-4811-bab0-e2b07f633fcd   \n",
       "\n",
       "  Loan Status  Current Loan Amount        Term  Credit Score  \\\n",
       "0  Fully Paid                11520  Short Term         741.0   \n",
       "1  Fully Paid                 3441  Short Term         734.0   \n",
       "2  Fully Paid                21029  Short Term         747.0   \n",
       "3  Fully Paid                18743  Short Term         747.0   \n",
       "4  Fully Paid                11731  Short Term         746.0   \n",
       "\n",
       "  Years in current job Home Ownership  Annual Income             Purpose  \\\n",
       "0            10+ years  Home Mortgage        33694.0  Debt Consolidation   \n",
       "1              4 years  Home Mortgage        42269.0               other   \n",
       "2            10+ years  Home Mortgage        90126.0  Debt Consolidation   \n",
       "3            10+ years       Own Home        38072.0  Debt Consolidation   \n",
       "4              4 years           Rent        50025.0  Debt Consolidation   \n",
       "\n",
       "  Monthly Debt  Years of Credit History  Months since last delinquent  \\\n",
       "0      $584.03                     12.3                          41.0   \n",
       "1   $1,106.04                      26.3                           NaN   \n",
       "2   $1,321.85                      28.8                           NaN   \n",
       "3      $751.92                     26.2                           NaN   \n",
       "4      $355.18                     11.5                           NaN   \n",
       "\n",
       "   Number of Open Accounts  Number of Credit Problems  Current Credit Balance  \\\n",
       "0                       10                          0                    6760   \n",
       "1                       17                          0                    6262   \n",
       "2                        5                          0                   20967   \n",
       "3                        9                          0                   22529   \n",
       "4                       12                          0                   17391   \n",
       "\n",
       "  Maximum Open Credit  Bankruptcies  Tax Liens  \n",
       "0               16056           0.0        0.0  \n",
       "1               19149           0.0        0.0  \n",
       "2               28335           0.0        0.0  \n",
       "3               43915           0.0        0.0  \n",
       "4               37081           0.0        0.0  "
      ]
     },
     "execution_count": 12,
     "metadata": {},
     "output_type": "execute_result"
    }
   ],
   "source": [
    "df.head()"
   ]
  },
  {
   "cell_type": "code",
   "execution_count": 13,
   "id": "100c914a",
   "metadata": {},
   "outputs": [
    {
     "data": {
      "text/plain": [
       "Index(['Loan ID', 'Customer ID', 'Loan Status', 'Current Loan Amount', 'Term',\n",
       "       'Credit Score', 'Years in current job', 'Home Ownership',\n",
       "       'Annual Income', 'Purpose', 'Monthly Debt', 'Years of Credit History',\n",
       "       'Months since last delinquent', 'Number of Open Accounts',\n",
       "       'Number of Credit Problems', 'Current Credit Balance',\n",
       "       'Maximum Open Credit', 'Bankruptcies', 'Tax Liens'],\n",
       "      dtype='object')"
      ]
     },
     "execution_count": 13,
     "metadata": {},
     "output_type": "execute_result"
    }
   ],
   "source": [
    "df.columns"
   ]
  },
  {
   "cell_type": "code",
   "execution_count": 14,
   "id": "9987d1c2",
   "metadata": {},
   "outputs": [
    {
     "data": {
      "text/plain": [
       "Loan ID                              0\n",
       "Customer ID                          0\n",
       "Loan Status                          0\n",
       "Current Loan Amount                  0\n",
       "Term                                 0\n",
       "Credit Score                     61676\n",
       "Years in current job             11476\n",
       "Home Ownership                       0\n",
       "Annual Income                    61676\n",
       "Purpose                              0\n",
       "Monthly Debt                         0\n",
       "Years of Credit History              0\n",
       "Months since last delinquent    140383\n",
       "Number of Open Accounts              0\n",
       "Number of Credit Problems            0\n",
       "Current Credit Balance               0\n",
       "Maximum Open Credit                  0\n",
       "Bankruptcies                       529\n",
       "Tax Liens                           23\n",
       "dtype: int64"
      ]
     },
     "execution_count": 14,
     "metadata": {},
     "output_type": "execute_result"
    }
   ],
   "source": [
    "df.isnull().sum()\n",
    "\n",
    "#Boş verileri görmek için"
   ]
  },
  {
   "cell_type": "code",
   "execution_count": 15,
   "id": "a0cf16fa",
   "metadata": {},
   "outputs": [
    {
     "data": {
      "text/html": [
       "<div>\n",
       "<style scoped>\n",
       "    .dataframe tbody tr th:only-of-type {\n",
       "        vertical-align: middle;\n",
       "    }\n",
       "\n",
       "    .dataframe tbody tr th {\n",
       "        vertical-align: top;\n",
       "    }\n",
       "\n",
       "    .dataframe thead th {\n",
       "        text-align: right;\n",
       "    }\n",
       "</style>\n",
       "<table border=\"1\" class=\"dataframe\">\n",
       "  <thead>\n",
       "    <tr style=\"text-align: right;\">\n",
       "      <th></th>\n",
       "      <th>Current Loan Amount</th>\n",
       "      <th>Credit Score</th>\n",
       "      <th>Annual Income</th>\n",
       "      <th>Years of Credit History</th>\n",
       "      <th>Months since last delinquent</th>\n",
       "      <th>Number of Open Accounts</th>\n",
       "      <th>Number of Credit Problems</th>\n",
       "      <th>Current Credit Balance</th>\n",
       "      <th>Bankruptcies</th>\n",
       "      <th>Tax Liens</th>\n",
       "    </tr>\n",
       "  </thead>\n",
       "  <tbody>\n",
       "    <tr>\n",
       "      <th>Current Loan Amount</th>\n",
       "      <td>1.000000</td>\n",
       "      <td>-0.139743</td>\n",
       "      <td>0.024069</td>\n",
       "      <td>0.014725</td>\n",
       "      <td>0.003488</td>\n",
       "      <td>-0.003094</td>\n",
       "      <td>-0.000062</td>\n",
       "      <td>0.003138</td>\n",
       "      <td>0.003576</td>\n",
       "      <td>-0.003069</td>\n",
       "    </tr>\n",
       "    <tr>\n",
       "      <th>Credit Score</th>\n",
       "      <td>-0.139743</td>\n",
       "      <td>1.000000</td>\n",
       "      <td>-0.033221</td>\n",
       "      <td>-0.011658</td>\n",
       "      <td>-0.007994</td>\n",
       "      <td>0.008124</td>\n",
       "      <td>0.000777</td>\n",
       "      <td>-0.003263</td>\n",
       "      <td>-0.003426</td>\n",
       "      <td>0.004381</td>\n",
       "    </tr>\n",
       "    <tr>\n",
       "      <th>Annual Income</th>\n",
       "      <td>0.024069</td>\n",
       "      <td>-0.033221</td>\n",
       "      <td>1.000000</td>\n",
       "      <td>0.146859</td>\n",
       "      <td>-0.059675</td>\n",
       "      <td>0.140463</td>\n",
       "      <td>-0.013672</td>\n",
       "      <td>0.292165</td>\n",
       "      <td>-0.044837</td>\n",
       "      <td>0.038185</td>\n",
       "    </tr>\n",
       "    <tr>\n",
       "      <th>Years of Credit History</th>\n",
       "      <td>0.014725</td>\n",
       "      <td>-0.011658</td>\n",
       "      <td>0.146859</td>\n",
       "      <td>1.000000</td>\n",
       "      <td>-0.039695</td>\n",
       "      <td>0.128033</td>\n",
       "      <td>0.061251</td>\n",
       "      <td>0.201001</td>\n",
       "      <td>0.062049</td>\n",
       "      <td>0.020915</td>\n",
       "    </tr>\n",
       "    <tr>\n",
       "      <th>Months since last delinquent</th>\n",
       "      <td>0.003488</td>\n",
       "      <td>-0.007994</td>\n",
       "      <td>-0.059675</td>\n",
       "      <td>-0.039695</td>\n",
       "      <td>1.000000</td>\n",
       "      <td>-0.035803</td>\n",
       "      <td>0.088612</td>\n",
       "      <td>-0.024292</td>\n",
       "      <td>0.112907</td>\n",
       "      <td>0.002730</td>\n",
       "    </tr>\n",
       "    <tr>\n",
       "      <th>Number of Open Accounts</th>\n",
       "      <td>-0.003094</td>\n",
       "      <td>0.008124</td>\n",
       "      <td>0.140463</td>\n",
       "      <td>0.128033</td>\n",
       "      <td>-0.035803</td>\n",
       "      <td>1.000000</td>\n",
       "      <td>-0.013731</td>\n",
       "      <td>0.222763</td>\n",
       "      <td>-0.022805</td>\n",
       "      <td>0.005754</td>\n",
       "    </tr>\n",
       "    <tr>\n",
       "      <th>Number of Credit Problems</th>\n",
       "      <td>-0.000062</td>\n",
       "      <td>0.000777</td>\n",
       "      <td>-0.013672</td>\n",
       "      <td>0.061251</td>\n",
       "      <td>0.088612</td>\n",
       "      <td>-0.013731</td>\n",
       "      <td>1.000000</td>\n",
       "      <td>-0.103814</td>\n",
       "      <td>0.755866</td>\n",
       "      <td>0.584917</td>\n",
       "    </tr>\n",
       "    <tr>\n",
       "      <th>Current Credit Balance</th>\n",
       "      <td>0.003138</td>\n",
       "      <td>-0.003263</td>\n",
       "      <td>0.292165</td>\n",
       "      <td>0.201001</td>\n",
       "      <td>-0.024292</td>\n",
       "      <td>0.222763</td>\n",
       "      <td>-0.103814</td>\n",
       "      <td>1.000000</td>\n",
       "      <td>-0.117995</td>\n",
       "      <td>-0.011118</td>\n",
       "    </tr>\n",
       "    <tr>\n",
       "      <th>Bankruptcies</th>\n",
       "      <td>0.003576</td>\n",
       "      <td>-0.003426</td>\n",
       "      <td>-0.044837</td>\n",
       "      <td>0.062049</td>\n",
       "      <td>0.112907</td>\n",
       "      <td>-0.022805</td>\n",
       "      <td>0.755866</td>\n",
       "      <td>-0.117995</td>\n",
       "      <td>1.000000</td>\n",
       "      <td>0.046160</td>\n",
       "    </tr>\n",
       "    <tr>\n",
       "      <th>Tax Liens</th>\n",
       "      <td>-0.003069</td>\n",
       "      <td>0.004381</td>\n",
       "      <td>0.038185</td>\n",
       "      <td>0.020915</td>\n",
       "      <td>0.002730</td>\n",
       "      <td>0.005754</td>\n",
       "      <td>0.584917</td>\n",
       "      <td>-0.011118</td>\n",
       "      <td>0.046160</td>\n",
       "      <td>1.000000</td>\n",
       "    </tr>\n",
       "  </tbody>\n",
       "</table>\n",
       "</div>"
      ],
      "text/plain": [
       "                              Current Loan Amount  Credit Score  \\\n",
       "Current Loan Amount                      1.000000     -0.139743   \n",
       "Credit Score                            -0.139743      1.000000   \n",
       "Annual Income                            0.024069     -0.033221   \n",
       "Years of Credit History                  0.014725     -0.011658   \n",
       "Months since last delinquent             0.003488     -0.007994   \n",
       "Number of Open Accounts                 -0.003094      0.008124   \n",
       "Number of Credit Problems               -0.000062      0.000777   \n",
       "Current Credit Balance                   0.003138     -0.003263   \n",
       "Bankruptcies                             0.003576     -0.003426   \n",
       "Tax Liens                               -0.003069      0.004381   \n",
       "\n",
       "                              Annual Income  Years of Credit History  \\\n",
       "Current Loan Amount                0.024069                 0.014725   \n",
       "Credit Score                      -0.033221                -0.011658   \n",
       "Annual Income                      1.000000                 0.146859   \n",
       "Years of Credit History            0.146859                 1.000000   \n",
       "Months since last delinquent      -0.059675                -0.039695   \n",
       "Number of Open Accounts            0.140463                 0.128033   \n",
       "Number of Credit Problems         -0.013672                 0.061251   \n",
       "Current Credit Balance             0.292165                 0.201001   \n",
       "Bankruptcies                      -0.044837                 0.062049   \n",
       "Tax Liens                          0.038185                 0.020915   \n",
       "\n",
       "                              Months since last delinquent  \\\n",
       "Current Loan Amount                               0.003488   \n",
       "Credit Score                                     -0.007994   \n",
       "Annual Income                                    -0.059675   \n",
       "Years of Credit History                          -0.039695   \n",
       "Months since last delinquent                      1.000000   \n",
       "Number of Open Accounts                          -0.035803   \n",
       "Number of Credit Problems                         0.088612   \n",
       "Current Credit Balance                           -0.024292   \n",
       "Bankruptcies                                      0.112907   \n",
       "Tax Liens                                         0.002730   \n",
       "\n",
       "                              Number of Open Accounts  \\\n",
       "Current Loan Amount                         -0.003094   \n",
       "Credit Score                                 0.008124   \n",
       "Annual Income                                0.140463   \n",
       "Years of Credit History                      0.128033   \n",
       "Months since last delinquent                -0.035803   \n",
       "Number of Open Accounts                      1.000000   \n",
       "Number of Credit Problems                   -0.013731   \n",
       "Current Credit Balance                       0.222763   \n",
       "Bankruptcies                                -0.022805   \n",
       "Tax Liens                                    0.005754   \n",
       "\n",
       "                              Number of Credit Problems  \\\n",
       "Current Loan Amount                           -0.000062   \n",
       "Credit Score                                   0.000777   \n",
       "Annual Income                                 -0.013672   \n",
       "Years of Credit History                        0.061251   \n",
       "Months since last delinquent                   0.088612   \n",
       "Number of Open Accounts                       -0.013731   \n",
       "Number of Credit Problems                      1.000000   \n",
       "Current Credit Balance                        -0.103814   \n",
       "Bankruptcies                                   0.755866   \n",
       "Tax Liens                                      0.584917   \n",
       "\n",
       "                              Current Credit Balance  Bankruptcies  Tax Liens  \n",
       "Current Loan Amount                         0.003138      0.003576  -0.003069  \n",
       "Credit Score                               -0.003263     -0.003426   0.004381  \n",
       "Annual Income                               0.292165     -0.044837   0.038185  \n",
       "Years of Credit History                     0.201001      0.062049   0.020915  \n",
       "Months since last delinquent               -0.024292      0.112907   0.002730  \n",
       "Number of Open Accounts                     0.222763     -0.022805   0.005754  \n",
       "Number of Credit Problems                  -0.103814      0.755866   0.584917  \n",
       "Current Credit Balance                      1.000000     -0.117995  -0.011118  \n",
       "Bankruptcies                               -0.117995      1.000000   0.046160  \n",
       "Tax Liens                                  -0.011118      0.046160   1.000000  "
      ]
     },
     "execution_count": 15,
     "metadata": {},
     "output_type": "execute_result"
    }
   ],
   "source": [
    "df.corr()"
   ]
  },
  {
   "cell_type": "code",
   "execution_count": 16,
   "id": "efedbe35",
   "metadata": {},
   "outputs": [
    {
     "data": {
      "text/plain": [
       "Months since last delinquent    140383\n",
       "Credit Score                     61676\n",
       "Annual Income                    61676\n",
       "Years in current job             11476\n",
       "Bankruptcies                       529\n",
       "Tax Liens                           23\n",
       "Years of Credit History              0\n",
       "Maximum Open Credit                  0\n",
       "Current Credit Balance               0\n",
       "Number of Credit Problems            0\n",
       "Number of Open Accounts              0\n",
       "Loan ID                              0\n",
       "Monthly Debt                         0\n",
       "Customer ID                          0\n",
       "Home Ownership                       0\n",
       "Term                                 0\n",
       "Current Loan Amount                  0\n",
       "Loan Status                          0\n",
       "Purpose                              0\n",
       "dtype: int64"
      ]
     },
     "execution_count": 16,
     "metadata": {},
     "output_type": "execute_result"
    }
   ],
   "source": [
    "df.isnull().sum().sort_values(ascending=False)\n",
    "\n",
    "#Boş verielrin büyükten küçüğe doğru sıralama"
   ]
  },
  {
   "cell_type": "code",
   "execution_count": 17,
   "id": "59d6cdc6",
   "metadata": {},
   "outputs": [
    {
     "name": "stdout",
     "output_type": "stream",
     "text": [
      "<class 'pandas.core.frame.DataFrame'>\n",
      "RangeIndex: 256984 entries, 0 to 256983\n",
      "Data columns (total 19 columns):\n",
      " #   Column                        Non-Null Count   Dtype  \n",
      "---  ------                        --------------   -----  \n",
      " 0   Loan ID                       256984 non-null  object \n",
      " 1   Customer ID                   256984 non-null  object \n",
      " 2   Loan Status                   256984 non-null  object \n",
      " 3   Current Loan Amount           256984 non-null  int64  \n",
      " 4   Term                          256984 non-null  object \n",
      " 5   Credit Score                  195308 non-null  float64\n",
      " 6   Years in current job          245508 non-null  object \n",
      " 7   Home Ownership                256984 non-null  object \n",
      " 8   Annual Income                 195308 non-null  float64\n",
      " 9   Purpose                       256984 non-null  object \n",
      " 10  Monthly Debt                  256984 non-null  object \n",
      " 11  Years of Credit History       256984 non-null  float64\n",
      " 12  Months since last delinquent  116601 non-null  float64\n",
      " 13  Number of Open Accounts       256984 non-null  int64  \n",
      " 14  Number of Credit Problems     256984 non-null  int64  \n",
      " 15  Current Credit Balance        256984 non-null  int64  \n",
      " 16  Maximum Open Credit           256984 non-null  object \n",
      " 17  Bankruptcies                  256455 non-null  float64\n",
      " 18  Tax Liens                     256961 non-null  float64\n",
      "dtypes: float64(6), int64(4), object(9)\n",
      "memory usage: 37.3+ MB\n"
     ]
    }
   ],
   "source": [
    "df.info()\n",
    "#Verilerin cinsini gösteren kod"
   ]
  },
  {
   "cell_type": "code",
   "execution_count": 18,
   "id": "787580d8",
   "metadata": {},
   "outputs": [],
   "source": [
    "import seaborn as sns\n",
    "# tek satırlık kodlarla grafik oluşturan paket"
   ]
  },
  {
   "cell_type": "code",
   "execution_count": 19,
   "id": "c096c141",
   "metadata": {},
   "outputs": [
    {
     "data": {
      "text/plain": [
       "<Axes: >"
      ]
     },
     "execution_count": 19,
     "metadata": {},
     "output_type": "execute_result"
    },
    {
     "data": {
      "image/png": "[encoded data removed]",
      "text/plain": [
       "<Figure size 640x480 with 2 Axes>"
      ]
     },
     "metadata": {},
     "output_type": "display_data"
    }
   ],
   "source": [
    "sns.heatmap(df.corr(numeric_only=True),annot=True)\n",
    "\n",
    "#Coralasyon grafiği"
   ]
  },
  {
   "cell_type": "code",
   "execution_count": 20,
   "id": "385cc18b",
   "metadata": {},
   "outputs": [
    {
     "data": {
      "text/html": [
       "<div>\n",
       "<style scoped>\n",
       "    .dataframe tbody tr th:only-of-type {\n",
       "        vertical-align: middle;\n",
       "    }\n",
       "\n",
       "    .dataframe tbody tr th {\n",
       "        vertical-align: top;\n",
       "    }\n",
       "\n",
       "    .dataframe thead th {\n",
       "        text-align: right;\n",
       "    }\n",
       "</style>\n",
       "<table border=\"1\" class=\"dataframe\">\n",
       "  <thead>\n",
       "    <tr style=\"text-align: right;\">\n",
       "      <th></th>\n",
       "      <th>Current Loan Amount</th>\n",
       "      <th>Credit Score</th>\n",
       "      <th>Annual Income</th>\n",
       "      <th>Years of Credit History</th>\n",
       "      <th>Months since last delinquent</th>\n",
       "      <th>Number of Open Accounts</th>\n",
       "      <th>Number of Credit Problems</th>\n",
       "      <th>Current Credit Balance</th>\n",
       "      <th>Bankruptcies</th>\n",
       "      <th>Tax Liens</th>\n",
       "    </tr>\n",
       "  </thead>\n",
       "  <tbody>\n",
       "    <tr>\n",
       "      <th>count</th>\n",
       "      <td>2.569840e+05</td>\n",
       "      <td>195308.000000</td>\n",
       "      <td>1.953080e+05</td>\n",
       "      <td>256984.000000</td>\n",
       "      <td>116601.000000</td>\n",
       "      <td>256984.000000</td>\n",
       "      <td>256984.000000</td>\n",
       "      <td>2.569840e+05</td>\n",
       "      <td>256455.000000</td>\n",
       "      <td>256961.000000</td>\n",
       "    </tr>\n",
       "    <tr>\n",
       "      <th>mean</th>\n",
       "      <td>1.371331e+07</td>\n",
       "      <td>1251.116099</td>\n",
       "      <td>7.195272e+04</td>\n",
       "      <td>18.290195</td>\n",
       "      <td>34.881450</td>\n",
       "      <td>11.106267</td>\n",
       "      <td>0.156628</td>\n",
       "      <td>1.540656e+04</td>\n",
       "      <td>0.110316</td>\n",
       "      <td>0.027203</td>\n",
       "    </tr>\n",
       "    <tr>\n",
       "      <th>std</th>\n",
       "      <td>3.438131e+07</td>\n",
       "      <td>1762.016848</td>\n",
       "      <td>5.887757e+04</td>\n",
       "      <td>7.075747</td>\n",
       "      <td>21.854165</td>\n",
       "      <td>4.982982</td>\n",
       "      <td>0.460731</td>\n",
       "      <td>1.966506e+04</td>\n",
       "      <td>0.336229</td>\n",
       "      <td>0.245950</td>\n",
       "    </tr>\n",
       "    <tr>\n",
       "      <th>min</th>\n",
       "      <td>5.050000e+02</td>\n",
       "      <td>585.000000</td>\n",
       "      <td>0.000000e+00</td>\n",
       "      <td>3.400000</td>\n",
       "      <td>0.000000</td>\n",
       "      <td>0.000000</td>\n",
       "      <td>0.000000</td>\n",
       "      <td>0.000000e+00</td>\n",
       "      <td>0.000000</td>\n",
       "      <td>0.000000</td>\n",
       "    </tr>\n",
       "    <tr>\n",
       "      <th>25%</th>\n",
       "      <td>8.299000e+03</td>\n",
       "      <td>714.000000</td>\n",
       "      <td>4.432100e+04</td>\n",
       "      <td>13.500000</td>\n",
       "      <td>16.000000</td>\n",
       "      <td>8.000000</td>\n",
       "      <td>0.000000</td>\n",
       "      <td>5.974000e+03</td>\n",
       "      <td>0.000000</td>\n",
       "      <td>0.000000</td>\n",
       "    </tr>\n",
       "    <tr>\n",
       "      <th>50%</th>\n",
       "      <td>1.429800e+04</td>\n",
       "      <td>733.000000</td>\n",
       "      <td>6.124200e+04</td>\n",
       "      <td>17.000000</td>\n",
       "      <td>32.000000</td>\n",
       "      <td>10.000000</td>\n",
       "      <td>0.000000</td>\n",
       "      <td>1.107800e+04</td>\n",
       "      <td>0.000000</td>\n",
       "      <td>0.000000</td>\n",
       "    </tr>\n",
       "    <tr>\n",
       "      <th>75%</th>\n",
       "      <td>2.436700e+04</td>\n",
       "      <td>744.000000</td>\n",
       "      <td>8.646200e+04</td>\n",
       "      <td>21.700000</td>\n",
       "      <td>51.000000</td>\n",
       "      <td>14.000000</td>\n",
       "      <td>0.000000</td>\n",
       "      <td>1.931900e+04</td>\n",
       "      <td>0.000000</td>\n",
       "      <td>0.000000</td>\n",
       "    </tr>\n",
       "    <tr>\n",
       "      <th>max</th>\n",
       "      <td>1.000000e+08</td>\n",
       "      <td>7510.000000</td>\n",
       "      <td>8.713547e+06</td>\n",
       "      <td>70.500000</td>\n",
       "      <td>176.000000</td>\n",
       "      <td>76.000000</td>\n",
       "      <td>11.000000</td>\n",
       "      <td>1.731412e+06</td>\n",
       "      <td>7.000000</td>\n",
       "      <td>11.000000</td>\n",
       "    </tr>\n",
       "  </tbody>\n",
       "</table>\n",
       "</div>"
      ],
      "text/plain": [
       "       Current Loan Amount   Credit Score  Annual Income  \\\n",
       "count         2.569840e+05  195308.000000   1.953080e+05   \n",
       "mean          1.371331e+07    1251.116099   7.195272e+04   \n",
       "std           3.438131e+07    1762.016848   5.887757e+04   \n",
       "min           5.050000e+02     585.000000   0.000000e+00   \n",
       "25%           8.299000e+03     714.000000   4.432100e+04   \n",
       "50%           1.429800e+04     733.000000   6.124200e+04   \n",
       "75%           2.436700e+04     744.000000   8.646200e+04   \n",
       "max           1.000000e+08    7510.000000   8.713547e+06   \n",
       "\n",
       "       Years of Credit History  Months since last delinquent  \\\n",
       "count            256984.000000                 116601.000000   \n",
       "mean                 18.290195                     34.881450   \n",
       "std                   7.075747                     21.854165   \n",
       "min                   3.400000                      0.000000   \n",
       "25%                  13.500000                     16.000000   \n",
       "50%                  17.000000                     32.000000   \n",
       "75%                  21.700000                     51.000000   \n",
       "max                  70.500000                    176.000000   \n",
       "\n",
       "       Number of Open Accounts  Number of Credit Problems  \\\n",
       "count            256984.000000              256984.000000   \n",
       "mean                 11.106267                   0.156628   \n",
       "std                   4.982982                   0.460731   \n",
       "min                   0.000000                   0.000000   \n",
       "25%                   8.000000                   0.000000   \n",
       "50%                  10.000000                   0.000000   \n",
       "75%                  14.000000                   0.000000   \n",
       "max                  76.000000                  11.000000   \n",
       "\n",
       "       Current Credit Balance   Bankruptcies      Tax Liens  \n",
       "count            2.569840e+05  256455.000000  256961.000000  \n",
       "mean             1.540656e+04       0.110316       0.027203  \n",
       "std              1.966506e+04       0.336229       0.245950  \n",
       "min              0.000000e+00       0.000000       0.000000  \n",
       "25%              5.974000e+03       0.000000       0.000000  \n",
       "50%              1.107800e+04       0.000000       0.000000  \n",
       "75%              1.931900e+04       0.000000       0.000000  \n",
       "max              1.731412e+06       7.000000      11.000000  "
      ]
     },
     "execution_count": 20,
     "metadata": {},
     "output_type": "execute_result"
    }
   ],
   "source": [
    "df.describe()"
   ]
  },
  {
   "cell_type": "code",
   "execution_count": 21,
   "id": "8d03fc13",
   "metadata": {},
   "outputs": [
    {
     "data": {
      "text/plain": [
       "(256984, 19)"
      ]
     },
     "execution_count": 21,
     "metadata": {},
     "output_type": "execute_result"
    }
   ],
   "source": [
    "df.shape"
   ]
  },
  {
   "cell_type": "code",
   "execution_count": 22,
   "id": "6404f45c",
   "metadata": {},
   "outputs": [],
   "source": [
    "boslar=df.isnull().mean()\n",
    "sutunkaldır=boslar[boslar>0.4].index\n",
    "#%40 ın üzeründe değeri eksik olan sutunları kaldır"
   ]
  },
  {
   "cell_type": "code",
   "execution_count": 23,
   "id": "9e3f0546",
   "metadata": {},
   "outputs": [],
   "source": [
    "df=df.drop(sutunkaldır,axis=1)"
   ]
  },
  {
   "cell_type": "code",
   "execution_count": 24,
   "id": "fa235976",
   "metadata": {},
   "outputs": [],
   "source": [
    "#Katkısı olmayacakları siliyoruz\n",
    "df=df.drop('Loan ID', axis=1)\n",
    "df=df.drop('Customer ID', axis=1)"
   ]
  },
  {
   "cell_type": "code",
   "execution_count": 25,
   "id": "c209c0ee",
   "metadata": {},
   "outputs": [
    {
     "data": {
      "text/plain": [
       "0     584.03\n",
       "1    1106.04\n",
       "2    1321.85\n",
       "3     751.92\n",
       "4     355.18\n",
       "Name: Monthly Debt, dtype: float64"
      ]
     },
     "execution_count": 25,
     "metadata": {},
     "output_type": "execute_result"
    }
   ],
   "source": [
    "#Verileri düzenleyip, temizliyoruz\n",
    "df[\"Monthly Debt\"]=df[\"Monthly Debt\"].str.replace(\"$\",\"\")\n",
    "df[\"Monthly Debt\"]=df[\"Monthly Debt\"].str.replace(\",\",\"\", regex=True)\n",
    "df[\"Monthly Debt\"]=df[\"Monthly Debt\"].astype(\"float\")\n",
    "df[\"Monthly Debt\"].head()"
   ]
  },
  {
   "cell_type": "code",
   "execution_count": 26,
   "id": "73e37623",
   "metadata": {},
   "outputs": [
    {
     "data": {
      "text/html": [
       "<div>\n",
       "<style scoped>\n",
       "    .dataframe tbody tr th:only-of-type {\n",
       "        vertical-align: middle;\n",
       "    }\n",
       "\n",
       "    .dataframe tbody tr th {\n",
       "        vertical-align: top;\n",
       "    }\n",
       "\n",
       "    .dataframe thead th {\n",
       "        text-align: right;\n",
       "    }\n",
       "</style>\n",
       "<table border=\"1\" class=\"dataframe\">\n",
       "  <thead>\n",
       "    <tr style=\"text-align: right;\">\n",
       "      <th></th>\n",
       "      <th>Loan Status</th>\n",
       "      <th>Current Loan Amount</th>\n",
       "      <th>Term</th>\n",
       "      <th>Credit Score</th>\n",
       "      <th>Years in current job</th>\n",
       "      <th>Home Ownership</th>\n",
       "      <th>Annual Income</th>\n",
       "      <th>Purpose</th>\n",
       "      <th>Monthly Debt</th>\n",
       "      <th>Years of Credit History</th>\n",
       "      <th>Number of Open Accounts</th>\n",
       "      <th>Number of Credit Problems</th>\n",
       "      <th>Current Credit Balance</th>\n",
       "      <th>Maximum Open Credit</th>\n",
       "      <th>Bankruptcies</th>\n",
       "      <th>Tax Liens</th>\n",
       "    </tr>\n",
       "  </thead>\n",
       "  <tbody>\n",
       "    <tr>\n",
       "      <th>0</th>\n",
       "      <td>Fully Paid</td>\n",
       "      <td>11520</td>\n",
       "      <td>Short Term</td>\n",
       "      <td>741.0</td>\n",
       "      <td>10+ years</td>\n",
       "      <td>Home Mortgage</td>\n",
       "      <td>33694.0</td>\n",
       "      <td>Debt Consolidation</td>\n",
       "      <td>584.03</td>\n",
       "      <td>12.3</td>\n",
       "      <td>10</td>\n",
       "      <td>0</td>\n",
       "      <td>6760</td>\n",
       "      <td>16056</td>\n",
       "      <td>0.0</td>\n",
       "      <td>0.0</td>\n",
       "    </tr>\n",
       "    <tr>\n",
       "      <th>1</th>\n",
       "      <td>Fully Paid</td>\n",
       "      <td>3441</td>\n",
       "      <td>Short Term</td>\n",
       "      <td>734.0</td>\n",
       "      <td>4 years</td>\n",
       "      <td>Home Mortgage</td>\n",
       "      <td>42269.0</td>\n",
       "      <td>other</td>\n",
       "      <td>1106.04</td>\n",
       "      <td>26.3</td>\n",
       "      <td>17</td>\n",
       "      <td>0</td>\n",
       "      <td>6262</td>\n",
       "      <td>19149</td>\n",
       "      <td>0.0</td>\n",
       "      <td>0.0</td>\n",
       "    </tr>\n",
       "    <tr>\n",
       "      <th>2</th>\n",
       "      <td>Fully Paid</td>\n",
       "      <td>21029</td>\n",
       "      <td>Short Term</td>\n",
       "      <td>747.0</td>\n",
       "      <td>10+ years</td>\n",
       "      <td>Home Mortgage</td>\n",
       "      <td>90126.0</td>\n",
       "      <td>Debt Consolidation</td>\n",
       "      <td>1321.85</td>\n",
       "      <td>28.8</td>\n",
       "      <td>5</td>\n",
       "      <td>0</td>\n",
       "      <td>20967</td>\n",
       "      <td>28335</td>\n",
       "      <td>0.0</td>\n",
       "      <td>0.0</td>\n",
       "    </tr>\n",
       "    <tr>\n",
       "      <th>3</th>\n",
       "      <td>Fully Paid</td>\n",
       "      <td>18743</td>\n",
       "      <td>Short Term</td>\n",
       "      <td>747.0</td>\n",
       "      <td>10+ years</td>\n",
       "      <td>Own Home</td>\n",
       "      <td>38072.0</td>\n",
       "      <td>Debt Consolidation</td>\n",
       "      <td>751.92</td>\n",
       "      <td>26.2</td>\n",
       "      <td>9</td>\n",
       "      <td>0</td>\n",
       "      <td>22529</td>\n",
       "      <td>43915</td>\n",
       "      <td>0.0</td>\n",
       "      <td>0.0</td>\n",
       "    </tr>\n",
       "    <tr>\n",
       "      <th>4</th>\n",
       "      <td>Fully Paid</td>\n",
       "      <td>11731</td>\n",
       "      <td>Short Term</td>\n",
       "      <td>746.0</td>\n",
       "      <td>4 years</td>\n",
       "      <td>Rent</td>\n",
       "      <td>50025.0</td>\n",
       "      <td>Debt Consolidation</td>\n",
       "      <td>355.18</td>\n",
       "      <td>11.5</td>\n",
       "      <td>12</td>\n",
       "      <td>0</td>\n",
       "      <td>17391</td>\n",
       "      <td>37081</td>\n",
       "      <td>0.0</td>\n",
       "      <td>0.0</td>\n",
       "    </tr>\n",
       "  </tbody>\n",
       "</table>\n",
       "</div>"
      ],
      "text/plain": [
       "  Loan Status  Current Loan Amount        Term  Credit Score  \\\n",
       "0  Fully Paid                11520  Short Term         741.0   \n",
       "1  Fully Paid                 3441  Short Term         734.0   \n",
       "2  Fully Paid                21029  Short Term         747.0   \n",
       "3  Fully Paid                18743  Short Term         747.0   \n",
       "4  Fully Paid                11731  Short Term         746.0   \n",
       "\n",
       "  Years in current job Home Ownership  Annual Income             Purpose  \\\n",
       "0            10+ years  Home Mortgage        33694.0  Debt Consolidation   \n",
       "1              4 years  Home Mortgage        42269.0               other   \n",
       "2            10+ years  Home Mortgage        90126.0  Debt Consolidation   \n",
       "3            10+ years       Own Home        38072.0  Debt Consolidation   \n",
       "4              4 years           Rent        50025.0  Debt Consolidation   \n",
       "\n",
       "   Monthly Debt  Years of Credit History  Number of Open Accounts  \\\n",
       "0        584.03                     12.3                       10   \n",
       "1       1106.04                     26.3                       17   \n",
       "2       1321.85                     28.8                        5   \n",
       "3        751.92                     26.2                        9   \n",
       "4        355.18                     11.5                       12   \n",
       "\n",
       "   Number of Credit Problems  Current Credit Balance Maximum Open Credit  \\\n",
       "0                          0                    6760               16056   \n",
       "1                          0                    6262               19149   \n",
       "2                          0                   20967               28335   \n",
       "3                          0                   22529               43915   \n",
       "4                          0                   17391               37081   \n",
       "\n",
       "   Bankruptcies  Tax Liens  \n",
       "0           0.0        0.0  \n",
       "1           0.0        0.0  \n",
       "2           0.0        0.0  \n",
       "3           0.0        0.0  \n",
       "4           0.0        0.0  "
      ]
     },
     "execution_count": 26,
     "metadata": {},
     "output_type": "execute_result"
    }
   ],
   "source": [
    "df.head()"
   ]
  },
  {
   "cell_type": "code",
   "execution_count": 27,
   "id": "814a32b1",
   "metadata": {},
   "outputs": [
    {
     "data": {
      "text/plain": [
       "Credit Score                 61676\n",
       "Annual Income                61676\n",
       "Years in current job         11476\n",
       "Bankruptcies                   529\n",
       "Tax Liens                       23\n",
       "Loan Status                      0\n",
       "Current Loan Amount              0\n",
       "Term                             0\n",
       "Home Ownership                   0\n",
       "Purpose                          0\n",
       "Monthly Debt                     0\n",
       "Years of Credit History          0\n",
       "Number of Open Accounts          0\n",
       "Number of Credit Problems        0\n",
       "Current Credit Balance           0\n",
       "Maximum Open Credit              0\n",
       "dtype: int64"
      ]
     },
     "execution_count": 27,
     "metadata": {},
     "output_type": "execute_result"
    }
   ],
   "source": [
    "df.isnull().sum().sort_values(ascending=False)"
   ]
  },
  {
   "cell_type": "code",
   "execution_count": 28,
   "id": "13d92031",
   "metadata": {},
   "outputs": [],
   "source": [
    "df['Credit Score']=df['Credit Score'].fillna(df['Credit Score'].median())  #Orta değer ile boş verileri doldurduk"
   ]
  },
  {
   "cell_type": "code",
   "execution_count": 29,
   "id": "ab9a180b",
   "metadata": {},
   "outputs": [],
   "source": [
    "df['Annual Income']=df['Annual Income'].fillna(df['Annual Income'].median()) #Orta değer ile boş verileri doldurduk"
   ]
  },
  {
   "cell_type": "code",
   "execution_count": 30,
   "id": "a27603f5",
   "metadata": {},
   "outputs": [],
   "source": [
    "df['Tax Liens']=df['Tax Liens'].fillna(df['Tax Liens'].median()) #Orta değer ile boş verileri doldurduk"
   ]
  },
  {
   "cell_type": "code",
   "execution_count": 31,
   "id": "785cd547",
   "metadata": {},
   "outputs": [],
   "source": [
    "df['Bankruptcies']=df['Bankruptcies'].fillna(df['Bankruptcies'].median()) #Orta değer ile boş verileri doldurduk"
   ]
  },
  {
   "cell_type": "code",
   "execution_count": 32,
   "id": "07b771d3",
   "metadata": {},
   "outputs": [],
   "source": [
    "df['Years in current job'] = df['Years in current job'].str.extract(r'(\\d+(\\.\\d+)?)')[0]\n",
    "#Sayısal değerleri eşleştirmek ve çıkarmak için düzenli bir ifade modeli kullandık"
   ]
  },
  {
   "cell_type": "code",
   "execution_count": 33,
   "id": "c35f701e",
   "metadata": {},
   "outputs": [
    {
     "data": {
      "text/plain": [
       "Years in current job         11476\n",
       "Loan Status                      0\n",
       "Current Loan Amount              0\n",
       "Term                             0\n",
       "Credit Score                     0\n",
       "Home Ownership                   0\n",
       "Annual Income                    0\n",
       "Purpose                          0\n",
       "Monthly Debt                     0\n",
       "Years of Credit History          0\n",
       "Number of Open Accounts          0\n",
       "Number of Credit Problems        0\n",
       "Current Credit Balance           0\n",
       "Maximum Open Credit              0\n",
       "Bankruptcies                     0\n",
       "Tax Liens                        0\n",
       "dtype: int64"
      ]
     },
     "execution_count": 33,
     "metadata": {},
     "output_type": "execute_result"
    }
   ],
   "source": [
    "df.isnull().sum().sort_values(ascending=False)"
   ]
  },
  {
   "cell_type": "code",
   "execution_count": 34,
   "id": "bac4bb25",
   "metadata": {},
   "outputs": [
    {
     "data": {
      "text/html": [
       "<div>\n",
       "<style scoped>\n",
       "    .dataframe tbody tr th:only-of-type {\n",
       "        vertical-align: middle;\n",
       "    }\n",
       "\n",
       "    .dataframe tbody tr th {\n",
       "        vertical-align: top;\n",
       "    }\n",
       "\n",
       "    .dataframe thead th {\n",
       "        text-align: right;\n",
       "    }\n",
       "</style>\n",
       "<table border=\"1\" class=\"dataframe\">\n",
       "  <thead>\n",
       "    <tr style=\"text-align: right;\">\n",
       "      <th></th>\n",
       "      <th>Loan Status</th>\n",
       "      <th>Term</th>\n",
       "      <th>Years in current job</th>\n",
       "      <th>Home Ownership</th>\n",
       "      <th>Purpose</th>\n",
       "      <th>Maximum Open Credit</th>\n",
       "    </tr>\n",
       "  </thead>\n",
       "  <tbody>\n",
       "    <tr>\n",
       "      <th>0</th>\n",
       "      <td>Fully Paid</td>\n",
       "      <td>Short Term</td>\n",
       "      <td>10</td>\n",
       "      <td>Home Mortgage</td>\n",
       "      <td>Debt Consolidation</td>\n",
       "      <td>16056</td>\n",
       "    </tr>\n",
       "    <tr>\n",
       "      <th>1</th>\n",
       "      <td>Fully Paid</td>\n",
       "      <td>Short Term</td>\n",
       "      <td>4</td>\n",
       "      <td>Home Mortgage</td>\n",
       "      <td>other</td>\n",
       "      <td>19149</td>\n",
       "    </tr>\n",
       "    <tr>\n",
       "      <th>2</th>\n",
       "      <td>Fully Paid</td>\n",
       "      <td>Short Term</td>\n",
       "      <td>10</td>\n",
       "      <td>Home Mortgage</td>\n",
       "      <td>Debt Consolidation</td>\n",
       "      <td>28335</td>\n",
       "    </tr>\n",
       "    <tr>\n",
       "      <th>3</th>\n",
       "      <td>Fully Paid</td>\n",
       "      <td>Short Term</td>\n",
       "      <td>10</td>\n",
       "      <td>Own Home</td>\n",
       "      <td>Debt Consolidation</td>\n",
       "      <td>43915</td>\n",
       "    </tr>\n",
       "    <tr>\n",
       "      <th>4</th>\n",
       "      <td>Fully Paid</td>\n",
       "      <td>Short Term</td>\n",
       "      <td>4</td>\n",
       "      <td>Rent</td>\n",
       "      <td>Debt Consolidation</td>\n",
       "      <td>37081</td>\n",
       "    </tr>\n",
       "    <tr>\n",
       "      <th>...</th>\n",
       "      <td>...</td>\n",
       "      <td>...</td>\n",
       "      <td>...</td>\n",
       "      <td>...</td>\n",
       "      <td>...</td>\n",
       "      <td>...</td>\n",
       "    </tr>\n",
       "    <tr>\n",
       "      <th>256979</th>\n",
       "      <td>Fully Paid</td>\n",
       "      <td>Short Term</td>\n",
       "      <td>2</td>\n",
       "      <td>Rent</td>\n",
       "      <td>Debt Consolidation</td>\n",
       "      <td>44080</td>\n",
       "    </tr>\n",
       "    <tr>\n",
       "      <th>256980</th>\n",
       "      <td>Fully Paid</td>\n",
       "      <td>Short Term</td>\n",
       "      <td>10</td>\n",
       "      <td>Own Home</td>\n",
       "      <td>Debt Consolidation</td>\n",
       "      <td>9758</td>\n",
       "    </tr>\n",
       "    <tr>\n",
       "      <th>256981</th>\n",
       "      <td>Charged Off</td>\n",
       "      <td>Short Term</td>\n",
       "      <td>9</td>\n",
       "      <td>Home Mortgage</td>\n",
       "      <td>Debt Consolidation</td>\n",
       "      <td>20090</td>\n",
       "    </tr>\n",
       "    <tr>\n",
       "      <th>256982</th>\n",
       "      <td>Charged Off</td>\n",
       "      <td>Short Term</td>\n",
       "      <td>9</td>\n",
       "      <td>Home Mortgage</td>\n",
       "      <td>Debt Consolidation</td>\n",
       "      <td>20090</td>\n",
       "    </tr>\n",
       "    <tr>\n",
       "      <th>256983</th>\n",
       "      <td>Fully Paid</td>\n",
       "      <td>Long Term</td>\n",
       "      <td>10</td>\n",
       "      <td>Home Mortgage</td>\n",
       "      <td>Debt Consolidation</td>\n",
       "      <td>62371</td>\n",
       "    </tr>\n",
       "  </tbody>\n",
       "</table>\n",
       "<p>256984 rows × 6 columns</p>\n",
       "</div>"
      ],
      "text/plain": [
       "        Loan Status        Term Years in current job Home Ownership  \\\n",
       "0        Fully Paid  Short Term                   10  Home Mortgage   \n",
       "1        Fully Paid  Short Term                    4  Home Mortgage   \n",
       "2        Fully Paid  Short Term                   10  Home Mortgage   \n",
       "3        Fully Paid  Short Term                   10       Own Home   \n",
       "4        Fully Paid  Short Term                    4           Rent   \n",
       "...             ...         ...                  ...            ...   \n",
       "256979   Fully Paid  Short Term                    2           Rent   \n",
       "256980   Fully Paid  Short Term                   10       Own Home   \n",
       "256981  Charged Off  Short Term                    9  Home Mortgage   \n",
       "256982  Charged Off  Short Term                    9  Home Mortgage   \n",
       "256983   Fully Paid   Long Term                   10  Home Mortgage   \n",
       "\n",
       "                   Purpose Maximum Open Credit  \n",
       "0       Debt Consolidation               16056  \n",
       "1                    other               19149  \n",
       "2       Debt Consolidation               28335  \n",
       "3       Debt Consolidation               43915  \n",
       "4       Debt Consolidation               37081  \n",
       "...                    ...                 ...  \n",
       "256979  Debt Consolidation               44080  \n",
       "256980  Debt Consolidation                9758  \n",
       "256981  Debt Consolidation               20090  \n",
       "256982  Debt Consolidation               20090  \n",
       "256983  Debt Consolidation               62371  \n",
       "\n",
       "[256984 rows x 6 columns]"
      ]
     },
     "execution_count": 34,
     "metadata": {},
     "output_type": "execute_result"
    }
   ],
   "source": [
    "df.select_dtypes(\"object_\")\n",
    "\n",
    "#Sözel verileri görmemizi sağlar"
   ]
  },
  {
   "cell_type": "code",
   "execution_count": 35,
   "id": "5cfcb820",
   "metadata": {},
   "outputs": [],
   "source": [
    "df['Maximum Open Credit'] = df['Maximum Open Credit'].replace('#VALUE!', float('nan'))\n",
    "df['Maximum Open Credit'] = df['Maximum Open Credit'].astype(float)\n",
    "\n",
    "# Nan olanlara sayısal bir değer vermek için kullanıldı"
   ]
  },
  {
   "cell_type": "code",
   "execution_count": 36,
   "id": "ee4adcf6",
   "metadata": {},
   "outputs": [
    {
     "data": {
      "text/html": [
       "<div>\n",
       "<style scoped>\n",
       "    .dataframe tbody tr th:only-of-type {\n",
       "        vertical-align: middle;\n",
       "    }\n",
       "\n",
       "    .dataframe tbody tr th {\n",
       "        vertical-align: top;\n",
       "    }\n",
       "\n",
       "    .dataframe thead th {\n",
       "        text-align: right;\n",
       "    }\n",
       "</style>\n",
       "<table border=\"1\" class=\"dataframe\">\n",
       "  <thead>\n",
       "    <tr style=\"text-align: right;\">\n",
       "      <th></th>\n",
       "      <th>Loan Status</th>\n",
       "      <th>Current Loan Amount</th>\n",
       "      <th>Term</th>\n",
       "      <th>Credit Score</th>\n",
       "      <th>Years in current job</th>\n",
       "      <th>Home Ownership</th>\n",
       "      <th>Annual Income</th>\n",
       "      <th>Purpose</th>\n",
       "      <th>Monthly Debt</th>\n",
       "      <th>Years of Credit History</th>\n",
       "      <th>Number of Open Accounts</th>\n",
       "      <th>Number of Credit Problems</th>\n",
       "      <th>Current Credit Balance</th>\n",
       "      <th>Maximum Open Credit</th>\n",
       "      <th>Bankruptcies</th>\n",
       "      <th>Tax Liens</th>\n",
       "    </tr>\n",
       "  </thead>\n",
       "  <tbody>\n",
       "    <tr>\n",
       "      <th>0</th>\n",
       "      <td>Fully Paid</td>\n",
       "      <td>11520</td>\n",
       "      <td>Short Term</td>\n",
       "      <td>741.0</td>\n",
       "      <td>10</td>\n",
       "      <td>Home Mortgage</td>\n",
       "      <td>33694.0</td>\n",
       "      <td>Debt Consolidation</td>\n",
       "      <td>584.03</td>\n",
       "      <td>12.3</td>\n",
       "      <td>10</td>\n",
       "      <td>0</td>\n",
       "      <td>6760</td>\n",
       "      <td>16056.0</td>\n",
       "      <td>0.0</td>\n",
       "      <td>0.0</td>\n",
       "    </tr>\n",
       "    <tr>\n",
       "      <th>1</th>\n",
       "      <td>Fully Paid</td>\n",
       "      <td>3441</td>\n",
       "      <td>Short Term</td>\n",
       "      <td>734.0</td>\n",
       "      <td>4</td>\n",
       "      <td>Home Mortgage</td>\n",
       "      <td>42269.0</td>\n",
       "      <td>other</td>\n",
       "      <td>1106.04</td>\n",
       "      <td>26.3</td>\n",
       "      <td>17</td>\n",
       "      <td>0</td>\n",
       "      <td>6262</td>\n",
       "      <td>19149.0</td>\n",
       "      <td>0.0</td>\n",
       "      <td>0.0</td>\n",
       "    </tr>\n",
       "    <tr>\n",
       "      <th>2</th>\n",
       "      <td>Fully Paid</td>\n",
       "      <td>21029</td>\n",
       "      <td>Short Term</td>\n",
       "      <td>747.0</td>\n",
       "      <td>10</td>\n",
       "      <td>Home Mortgage</td>\n",
       "      <td>90126.0</td>\n",
       "      <td>Debt Consolidation</td>\n",
       "      <td>1321.85</td>\n",
       "      <td>28.8</td>\n",
       "      <td>5</td>\n",
       "      <td>0</td>\n",
       "      <td>20967</td>\n",
       "      <td>28335.0</td>\n",
       "      <td>0.0</td>\n",
       "      <td>0.0</td>\n",
       "    </tr>\n",
       "    <tr>\n",
       "      <th>3</th>\n",
       "      <td>Fully Paid</td>\n",
       "      <td>18743</td>\n",
       "      <td>Short Term</td>\n",
       "      <td>747.0</td>\n",
       "      <td>10</td>\n",
       "      <td>Own Home</td>\n",
       "      <td>38072.0</td>\n",
       "      <td>Debt Consolidation</td>\n",
       "      <td>751.92</td>\n",
       "      <td>26.2</td>\n",
       "      <td>9</td>\n",
       "      <td>0</td>\n",
       "      <td>22529</td>\n",
       "      <td>43915.0</td>\n",
       "      <td>0.0</td>\n",
       "      <td>0.0</td>\n",
       "    </tr>\n",
       "    <tr>\n",
       "      <th>4</th>\n",
       "      <td>Fully Paid</td>\n",
       "      <td>11731</td>\n",
       "      <td>Short Term</td>\n",
       "      <td>746.0</td>\n",
       "      <td>4</td>\n",
       "      <td>Rent</td>\n",
       "      <td>50025.0</td>\n",
       "      <td>Debt Consolidation</td>\n",
       "      <td>355.18</td>\n",
       "      <td>11.5</td>\n",
       "      <td>12</td>\n",
       "      <td>0</td>\n",
       "      <td>17391</td>\n",
       "      <td>37081.0</td>\n",
       "      <td>0.0</td>\n",
       "      <td>0.0</td>\n",
       "    </tr>\n",
       "  </tbody>\n",
       "</table>\n",
       "</div>"
      ],
      "text/plain": [
       "  Loan Status  Current Loan Amount        Term  Credit Score  \\\n",
       "0  Fully Paid                11520  Short Term         741.0   \n",
       "1  Fully Paid                 3441  Short Term         734.0   \n",
       "2  Fully Paid                21029  Short Term         747.0   \n",
       "3  Fully Paid                18743  Short Term         747.0   \n",
       "4  Fully Paid                11731  Short Term         746.0   \n",
       "\n",
       "  Years in current job Home Ownership  Annual Income             Purpose  \\\n",
       "0                   10  Home Mortgage        33694.0  Debt Consolidation   \n",
       "1                    4  Home Mortgage        42269.0               other   \n",
       "2                   10  Home Mortgage        90126.0  Debt Consolidation   \n",
       "3                   10       Own Home        38072.0  Debt Consolidation   \n",
       "4                    4           Rent        50025.0  Debt Consolidation   \n",
       "\n",
       "   Monthly Debt  Years of Credit History  Number of Open Accounts  \\\n",
       "0        584.03                     12.3                       10   \n",
       "1       1106.04                     26.3                       17   \n",
       "2       1321.85                     28.8                        5   \n",
       "3        751.92                     26.2                        9   \n",
       "4        355.18                     11.5                       12   \n",
       "\n",
       "   Number of Credit Problems  Current Credit Balance  Maximum Open Credit  \\\n",
       "0                          0                    6760              16056.0   \n",
       "1                          0                    6262              19149.0   \n",
       "2                          0                   20967              28335.0   \n",
       "3                          0                   22529              43915.0   \n",
       "4                          0                   17391              37081.0   \n",
       "\n",
       "   Bankruptcies  Tax Liens  \n",
       "0           0.0        0.0  \n",
       "1           0.0        0.0  \n",
       "2           0.0        0.0  \n",
       "3           0.0        0.0  \n",
       "4           0.0        0.0  "
      ]
     },
     "execution_count": 36,
     "metadata": {},
     "output_type": "execute_result"
    }
   ],
   "source": [
    "df.head()"
   ]
  },
  {
   "cell_type": "code",
   "execution_count": 37,
   "id": "aa081e27",
   "metadata": {},
   "outputs": [],
   "source": [
    "y=df['Loan Status']\n",
    "x=df.drop('Loan Status',axis=1)\n",
    "\n",
    "#y yi 'Loan Status' e eşitledik\n",
    "#x i 'Loan Status' i sildikten sonra yeni gelek olan verilere eşitledik"
   ]
  },
  {
   "cell_type": "code",
   "execution_count": 38,
   "id": "ccea236b",
   "metadata": {},
   "outputs": [],
   "source": [
    "x=pd.get_dummies(x,drop_first=True)\n",
    "y=pd.get_dummies(y,drop_first=True)\n",
    "\n"
   ]
  },
  {
   "cell_type": "code",
   "execution_count": 39,
   "id": "97aa0ce5",
   "metadata": {},
   "outputs": [],
   "source": [
    "from sklearn.impute import SimpleImputer\n",
    "\n",
    "imputer = SimpleImputer(strategy='mean')\n",
    "x = imputer.fit_transform(x)\n",
    "#internetten alınmiştır\n",
    "#Atama, bir veri kümesindeki eksik değerlerin bazı anlamlı değerlerle doldurulması işlemidir. Bu durumda, eksik değerleri eksik olmayan değerlerin ortalamasıyla değiştiren ortalama stratejisini kullanıyorsunuz.\n"
   ]
  },
  {
   "cell_type": "code",
   "execution_count": 40,
   "id": "a172fbbf",
   "metadata": {},
   "outputs": [],
   "source": [
    "from sklearn.metrics import accuracy_score,precision_score,recall_score,f1_score\n",
    "from sklearn.metrics import confusion_matrix,classification_report"
   ]
  },
  {
   "cell_type": "code",
   "execution_count": 41,
   "id": "37739cde",
   "metadata": {},
   "outputs": [],
   "source": [
    "from sklearn.naive_bayes import GaussianNB\n",
    "from sklearn.naive_bayes import BernoulliNB\n",
    "from sklearn.linear_model import LogisticRegression\n",
    "from sklearn.ensemble import RandomForestClassifier\n",
    "from sklearn.tree import DecisionTreeClassifier\n",
    "from sklearn.ensemble import GradientBoostingClassifier\n",
    "\n",
    "\n",
    "\n",
    "gb=GradientBoostingClassifier()\n",
    "d=DecisionTreeClassifier()\n",
    "g=GaussianNB()\n",
    "b=BernoulliNB()\n",
    "lr=LogisticRegression()\n",
    "r=RandomForestClassifier()"
   ]
  },
  {
   "cell_type": "code",
   "execution_count": 42,
   "id": "16c10dd7",
   "metadata": {},
   "outputs": [],
   "source": [
    "from sklearn.model_selection import train_test_split"
   ]
  },
  {
   "cell_type": "code",
   "execution_count": 43,
   "id": "79497cb2",
   "metadata": {},
   "outputs": [],
   "source": [
    "x_train,x_test,y_train,y_test=train_test_split(x,y,test_size=0.20,random_state=42)"
   ]
  },
  {
   "cell_type": "code",
   "execution_count": 44,
   "id": "9d1a7d1a",
   "metadata": {},
   "outputs": [
    {
     "data": {
      "text/html": [
       "<style>#sk-container-id-1 {color: black;background-color: white;}#sk-container-id-1 pre{padding: 0;}#sk-container-id-1 div.sk-toggleable {background-color: white;}#sk-container-id-1 label.sk-toggleable__label {cursor: pointer;display: block;width: 100%;margin-bottom: 0;padding: 0.3em;box-sizing: border-box;text-align: center;}#sk-container-id-1 label.sk-toggleable__label-arrow:before {content: \"▸\";float: left;margin-right: 0.25em;color: #696969;}#sk-container-id-1 label.sk-toggleable__label-arrow:hover:before {color: black;}#sk-container-id-1 div.sk-estimator:hover label.sk-toggleable__label-arrow:before {color: black;}#sk-container-id-1 div.sk-toggleable__content {max-height: 0;max-width: 0;overflow: hidden;text-align: left;background-color: #f0f8ff;}#sk-container-id-1 div.sk-toggleable__content pre {margin: 0.2em;color: black;border-radius: 0.25em;background-color: #f0f8ff;}#sk-container-id-1 input.sk-toggleable__control:checked~div.sk-toggleable__content {max-height: 200px;max-width: 100%;overflow: auto;}#sk-container-id-1 input.sk-toggleable__control:checked~label.sk-toggleable__label-arrow:before {content: \"▾\";}#sk-container-id-1 div.sk-estimator input.sk-toggleable__control:checked~label.sk-toggleable__label {background-color: #d4ebff;}#sk-container-id-1 div.sk-label input.sk-toggleable__control:checked~label.sk-toggleable__label {background-color: #d4ebff;}#sk-container-id-1 input.sk-hidden--visually {border: 0;clip: rect(1px 1px 1px 1px);clip: rect(1px, 1px, 1px, 1px);height: 1px;margin: -1px;overflow: hidden;padding: 0;position: absolute;width: 1px;}#sk-container-id-1 div.sk-estimator {font-family: monospace;background-color: #f0f8ff;border: 1px dotted black;border-radius: 0.25em;box-sizing: border-box;margin-bottom: 0.5em;}#sk-container-id-1 div.sk-estimator:hover {background-color: #d4ebff;}#sk-container-id-1 div.sk-parallel-item::after {content: \"\";width: 100%;border-bottom: 1px solid gray;flex-grow: 1;}#sk-container-id-1 div.sk-label:hover label.sk-toggleable__label {background-color: #d4ebff;}#sk-container-id-1 div.sk-serial::before {content: \"\";position: absolute;border-left: 1px solid gray;box-sizing: border-box;top: 0;bottom: 0;left: 50%;z-index: 0;}#sk-container-id-1 div.sk-serial {display: flex;flex-direction: column;align-items: center;background-color: white;padding-right: 0.2em;padding-left: 0.2em;position: relative;}#sk-container-id-1 div.sk-item {position: relative;z-index: 1;}#sk-container-id-1 div.sk-parallel {display: flex;align-items: stretch;justify-content: center;background-color: white;position: relative;}#sk-container-id-1 div.sk-item::before, #sk-container-id-1 div.sk-parallel-item::before {content: \"\";position: absolute;border-left: 1px solid gray;box-sizing: border-box;top: 0;bottom: 0;left: 50%;z-index: -1;}#sk-container-id-1 div.sk-parallel-item {display: flex;flex-direction: column;z-index: 1;position: relative;background-color: white;}#sk-container-id-1 div.sk-parallel-item:first-child::after {align-self: flex-end;width: 50%;}#sk-container-id-1 div.sk-parallel-item:last-child::after {align-self: flex-start;width: 50%;}#sk-container-id-1 div.sk-parallel-item:only-child::after {width: 0;}#sk-container-id-1 div.sk-dashed-wrapped {border: 1px dashed gray;margin: 0 0.4em 0.5em 0.4em;box-sizing: border-box;padding-bottom: 0.4em;background-color: white;}#sk-container-id-1 div.sk-label label {font-family: monospace;font-weight: bold;display: inline-block;line-height: 1.2em;}#sk-container-id-1 div.sk-label-container {text-align: center;}#sk-container-id-1 div.sk-container {/* jupyter's `normalize.less` sets `[hidden] { display: none; }` but bootstrap.min.css set `[hidden] { display: none !important; }` so we also need the `!important` here to be able to override the default hidden behavior on the sphinx rendered scikit-learn.org. See: https://github.com/scikit-learn/scikit-learn/issues/21755 */display: inline-block !important;position: relative;}#sk-container-id-1 div.sk-text-repr-fallback {display: none;}</style><div id=\"sk-container-id-1\" class=\"sk-top-container\"><div class=\"sk-text-repr-fallback\"><pre>GaussianNB()</pre><b>In a Jupyter environment, please rerun this cell to show the HTML representation or trust the notebook. <br />On GitHub, the HTML representation is unable to render, please try loading this page with nbviewer.org.</b></div><div class=\"sk-container\" hidden><div class=\"sk-item\"><div class=\"sk-estimator sk-toggleable\"><input class=\"sk-toggleable__control sk-hidden--visually\" id=\"sk-estimator-id-1\" type=\"checkbox\" checked><label for=\"sk-estimator-id-1\" class=\"sk-toggleable__label sk-toggleable__label-arrow\">GaussianNB</label><div class=\"sk-toggleable__content\"><pre>GaussianNB()</pre></div></div></div></div></div>"
      ],
      "text/plain": [
       "GaussianNB()"
      ]
     },
     "execution_count": 44,
     "metadata": {},
     "output_type": "execute_result"
    }
   ],
   "source": [
    "g.fit(x_train,y_train)"
   ]
  },
  {
   "cell_type": "code",
   "execution_count": 45,
   "id": "b3318d89",
   "metadata": {},
   "outputs": [],
   "source": [
    "tahmin1=g.predict(x_test)"
   ]
  },
  {
   "cell_type": "code",
   "execution_count": 46,
   "id": "95bc0f61",
   "metadata": {},
   "outputs": [
    {
     "data": {
      "text/plain": [
       "0.4498317022394303"
      ]
     },
     "execution_count": 46,
     "metadata": {},
     "output_type": "execute_result"
    }
   ],
   "source": [
    "accuracy_score(tahmin1,y_test)"
   ]
  },
  {
   "cell_type": "code",
   "execution_count": 47,
   "id": "a3cc8ef4",
   "metadata": {},
   "outputs": [
    {
     "data": {
      "text/html": [
       "<style>#sk-container-id-2 {color: black;background-color: white;}#sk-container-id-2 pre{padding: 0;}#sk-container-id-2 div.sk-toggleable {background-color: white;}#sk-container-id-2 label.sk-toggleable__label {cursor: pointer;display: block;width: 100%;margin-bottom: 0;padding: 0.3em;box-sizing: border-box;text-align: center;}#sk-container-id-2 label.sk-toggleable__label-arrow:before {content: \"▸\";float: left;margin-right: 0.25em;color: #696969;}#sk-container-id-2 label.sk-toggleable__label-arrow:hover:before {color: black;}#sk-container-id-2 div.sk-estimator:hover label.sk-toggleable__label-arrow:before {color: black;}#sk-container-id-2 div.sk-toggleable__content {max-height: 0;max-width: 0;overflow: hidden;text-align: left;background-color: #f0f8ff;}#sk-container-id-2 div.sk-toggleable__content pre {margin: 0.2em;color: black;border-radius: 0.25em;background-color: #f0f8ff;}#sk-container-id-2 input.sk-toggleable__control:checked~div.sk-toggleable__content {max-height: 200px;max-width: 100%;overflow: auto;}#sk-container-id-2 input.sk-toggleable__control:checked~label.sk-toggleable__label-arrow:before {content: \"▾\";}#sk-container-id-2 div.sk-estimator input.sk-toggleable__control:checked~label.sk-toggleable__label {background-color: #d4ebff;}#sk-container-id-2 div.sk-label input.sk-toggleable__control:checked~label.sk-toggleable__label {background-color: #d4ebff;}#sk-container-id-2 input.sk-hidden--visually {border: 0;clip: rect(1px 1px 1px 1px);clip: rect(1px, 1px, 1px, 1px);height: 1px;margin: -1px;overflow: hidden;padding: 0;position: absolute;width: 1px;}#sk-container-id-2 div.sk-estimator {font-family: monospace;background-color: #f0f8ff;border: 1px dotted black;border-radius: 0.25em;box-sizing: border-box;margin-bottom: 0.5em;}#sk-container-id-2 div.sk-estimator:hover {background-color: #d4ebff;}#sk-container-id-2 div.sk-parallel-item::after {content: \"\";width: 100%;border-bottom: 1px solid gray;flex-grow: 1;}#sk-container-id-2 div.sk-label:hover label.sk-toggleable__label {background-color: #d4ebff;}#sk-container-id-2 div.sk-serial::before {content: \"\";position: absolute;border-left: 1px solid gray;box-sizing: border-box;top: 0;bottom: 0;left: 50%;z-index: 0;}#sk-container-id-2 div.sk-serial {display: flex;flex-direction: column;align-items: center;background-color: white;padding-right: 0.2em;padding-left: 0.2em;position: relative;}#sk-container-id-2 div.sk-item {position: relative;z-index: 1;}#sk-container-id-2 div.sk-parallel {display: flex;align-items: stretch;justify-content: center;background-color: white;position: relative;}#sk-container-id-2 div.sk-item::before, #sk-container-id-2 div.sk-parallel-item::before {content: \"\";position: absolute;border-left: 1px solid gray;box-sizing: border-box;top: 0;bottom: 0;left: 50%;z-index: -1;}#sk-container-id-2 div.sk-parallel-item {display: flex;flex-direction: column;z-index: 1;position: relative;background-color: white;}#sk-container-id-2 div.sk-parallel-item:first-child::after {align-self: flex-end;width: 50%;}#sk-container-id-2 div.sk-parallel-item:last-child::after {align-self: flex-start;width: 50%;}#sk-container-id-2 div.sk-parallel-item:only-child::after {width: 0;}#sk-container-id-2 div.sk-dashed-wrapped {border: 1px dashed gray;margin: 0 0.4em 0.5em 0.4em;box-sizing: border-box;padding-bottom: 0.4em;background-color: white;}#sk-container-id-2 div.sk-label label {font-family: monospace;font-weight: bold;display: inline-block;line-height: 1.2em;}#sk-container-id-2 div.sk-label-container {text-align: center;}#sk-container-id-2 div.sk-container {/* jupyter's `normalize.less` sets `[hidden] { display: none; }` but bootstrap.min.css set `[hidden] { display: none !important; }` so we also need the `!important` here to be able to override the default hidden behavior on the sphinx rendered scikit-learn.org. See: https://github.com/scikit-learn/scikit-learn/issues/21755 */display: inline-block !important;position: relative;}#sk-container-id-2 div.sk-text-repr-fallback {display: none;}</style><div id=\"sk-container-id-2\" class=\"sk-top-container\"><div class=\"sk-text-repr-fallback\"><pre>LogisticRegression()</pre><b>In a Jupyter environment, please rerun this cell to show the HTML representation or trust the notebook. <br />On GitHub, the HTML representation is unable to render, please try loading this page with nbviewer.org.</b></div><div class=\"sk-container\" hidden><div class=\"sk-item\"><div class=\"sk-estimator sk-toggleable\"><input class=\"sk-toggleable__control sk-hidden--visually\" id=\"sk-estimator-id-2\" type=\"checkbox\" checked><label for=\"sk-estimator-id-2\" class=\"sk-toggleable__label sk-toggleable__label-arrow\">LogisticRegression</label><div class=\"sk-toggleable__content\"><pre>LogisticRegression()</pre></div></div></div></div></div>"
      ],
      "text/plain": [
       "LogisticRegression()"
      ]
     },
     "execution_count": 47,
     "metadata": {},
     "output_type": "execute_result"
    }
   ],
   "source": [
    "lr.fit(x_train,y_train)"
   ]
  },
  {
   "cell_type": "code",
   "execution_count": 48,
   "id": "254aeb4c",
   "metadata": {},
   "outputs": [],
   "source": [
    "tahmin2=lr.predict(x_test)"
   ]
  },
  {
   "cell_type": "code",
   "execution_count": 49,
   "id": "4363ff6e",
   "metadata": {},
   "outputs": [
    {
     "data": {
      "text/plain": [
       "0.7422612214720704"
      ]
     },
     "execution_count": 49,
     "metadata": {},
     "output_type": "execute_result"
    }
   ],
   "source": [
    "accuracy_score(tahmin2,y_test)"
   ]
  },
  {
   "cell_type": "code",
   "execution_count": 50,
   "id": "000ffa33",
   "metadata": {},
   "outputs": [
    {
     "data": {
      "text/html": [
       "<style>#sk-container-id-3 {color: black;background-color: white;}#sk-container-id-3 pre{padding: 0;}#sk-container-id-3 div.sk-toggleable {background-color: white;}#sk-container-id-3 label.sk-toggleable__label {cursor: pointer;display: block;width: 100%;margin-bottom: 0;padding: 0.3em;box-sizing: border-box;text-align: center;}#sk-container-id-3 label.sk-toggleable__label-arrow:before {content: \"▸\";float: left;margin-right: 0.25em;color: #696969;}#sk-container-id-3 label.sk-toggleable__label-arrow:hover:before {color: black;}#sk-container-id-3 div.sk-estimator:hover label.sk-toggleable__label-arrow:before {color: black;}#sk-container-id-3 div.sk-toggleable__content {max-height: 0;max-width: 0;overflow: hidden;text-align: left;background-color: #f0f8ff;}#sk-container-id-3 div.sk-toggleable__content pre {margin: 0.2em;color: black;border-radius: 0.25em;background-color: #f0f8ff;}#sk-container-id-3 input.sk-toggleable__control:checked~div.sk-toggleable__content {max-height: 200px;max-width: 100%;overflow: auto;}#sk-container-id-3 input.sk-toggleable__control:checked~label.sk-toggleable__label-arrow:before {content: \"▾\";}#sk-container-id-3 div.sk-estimator input.sk-toggleable__control:checked~label.sk-toggleable__label {background-color: #d4ebff;}#sk-container-id-3 div.sk-label input.sk-toggleable__control:checked~label.sk-toggleable__label {background-color: #d4ebff;}#sk-container-id-3 input.sk-hidden--visually {border: 0;clip: rect(1px 1px 1px 1px);clip: rect(1px, 1px, 1px, 1px);height: 1px;margin: -1px;overflow: hidden;padding: 0;position: absolute;width: 1px;}#sk-container-id-3 div.sk-estimator {font-family: monospace;background-color: #f0f8ff;border: 1px dotted black;border-radius: 0.25em;box-sizing: border-box;margin-bottom: 0.5em;}#sk-container-id-3 div.sk-estimator:hover {background-color: #d4ebff;}#sk-container-id-3 div.sk-parallel-item::after {content: \"\";width: 100%;border-bottom: 1px solid gray;flex-grow: 1;}#sk-container-id-3 div.sk-label:hover label.sk-toggleable__label {background-color: #d4ebff;}#sk-container-id-3 div.sk-serial::before {content: \"\";position: absolute;border-left: 1px solid gray;box-sizing: border-box;top: 0;bottom: 0;left: 50%;z-index: 0;}#sk-container-id-3 div.sk-serial {display: flex;flex-direction: column;align-items: center;background-color: white;padding-right: 0.2em;padding-left: 0.2em;position: relative;}#sk-container-id-3 div.sk-item {position: relative;z-index: 1;}#sk-container-id-3 div.sk-parallel {display: flex;align-items: stretch;justify-content: center;background-color: white;position: relative;}#sk-container-id-3 div.sk-item::before, #sk-container-id-3 div.sk-parallel-item::before {content: \"\";position: absolute;border-left: 1px solid gray;box-sizing: border-box;top: 0;bottom: 0;left: 50%;z-index: -1;}#sk-container-id-3 div.sk-parallel-item {display: flex;flex-direction: column;z-index: 1;position: relative;background-color: white;}#sk-container-id-3 div.sk-parallel-item:first-child::after {align-self: flex-end;width: 50%;}#sk-container-id-3 div.sk-parallel-item:last-child::after {align-self: flex-start;width: 50%;}#sk-container-id-3 div.sk-parallel-item:only-child::after {width: 0;}#sk-container-id-3 div.sk-dashed-wrapped {border: 1px dashed gray;margin: 0 0.4em 0.5em 0.4em;box-sizing: border-box;padding-bottom: 0.4em;background-color: white;}#sk-container-id-3 div.sk-label label {font-family: monospace;font-weight: bold;display: inline-block;line-height: 1.2em;}#sk-container-id-3 div.sk-label-container {text-align: center;}#sk-container-id-3 div.sk-container {/* jupyter's `normalize.less` sets `[hidden] { display: none; }` but bootstrap.min.css set `[hidden] { display: none !important; }` so we also need the `!important` here to be able to override the default hidden behavior on the sphinx rendered scikit-learn.org. See: https://github.com/scikit-learn/scikit-learn/issues/21755 */display: inline-block !important;position: relative;}#sk-container-id-3 div.sk-text-repr-fallback {display: none;}</style><div id=\"sk-container-id-3\" class=\"sk-top-container\"><div class=\"sk-text-repr-fallback\"><pre>DecisionTreeClassifier()</pre><b>In a Jupyter environment, please rerun this cell to show the HTML representation or trust the notebook. <br />On GitHub, the HTML representation is unable to render, please try loading this page with nbviewer.org.</b></div><div class=\"sk-container\" hidden><div class=\"sk-item\"><div class=\"sk-estimator sk-toggleable\"><input class=\"sk-toggleable__control sk-hidden--visually\" id=\"sk-estimator-id-3\" type=\"checkbox\" checked><label for=\"sk-estimator-id-3\" class=\"sk-toggleable__label sk-toggleable__label-arrow\">DecisionTreeClassifier</label><div class=\"sk-toggleable__content\"><pre>DecisionTreeClassifier()</pre></div></div></div></div></div>"
      ],
      "text/plain": [
       "DecisionTreeClassifier()"
      ]
     },
     "execution_count": 50,
     "metadata": {},
     "output_type": "execute_result"
    }
   ],
   "source": [
    "d.fit(x_train,y_train)"
   ]
  },
  {
   "cell_type": "code",
   "execution_count": 51,
   "id": "24530f86",
   "metadata": {},
   "outputs": [],
   "source": [
    "tahmin3=lr.predict(x_test)"
   ]
  },
  {
   "cell_type": "code",
   "execution_count": 52,
   "id": "83bd1bce",
   "metadata": {},
   "outputs": [
    {
     "data": {
      "text/plain": [
       "0.7422612214720704"
      ]
     },
     "execution_count": 52,
     "metadata": {},
     "output_type": "execute_result"
    }
   ],
   "source": [
    "accuracy_score(tahmin3,y_test)"
   ]
  },
  {
   "cell_type": "code",
   "execution_count": 53,
   "id": "d0d2195a",
   "metadata": {},
   "outputs": [
    {
     "data": {
      "text/html": [
       "<style>#sk-container-id-4 {color: black;background-color: white;}#sk-container-id-4 pre{padding: 0;}#sk-container-id-4 div.sk-toggleable {background-color: white;}#sk-container-id-4 label.sk-toggleable__label {cursor: pointer;display: block;width: 100%;margin-bottom: 0;padding: 0.3em;box-sizing: border-box;text-align: center;}#sk-container-id-4 label.sk-toggleable__label-arrow:before {content: \"▸\";float: left;margin-right: 0.25em;color: #696969;}#sk-container-id-4 label.sk-toggleable__label-arrow:hover:before {color: black;}#sk-container-id-4 div.sk-estimator:hover label.sk-toggleable__label-arrow:before {color: black;}#sk-container-id-4 div.sk-toggleable__content {max-height: 0;max-width: 0;overflow: hidden;text-align: left;background-color: #f0f8ff;}#sk-container-id-4 div.sk-toggleable__content pre {margin: 0.2em;color: black;border-radius: 0.25em;background-color: #f0f8ff;}#sk-container-id-4 input.sk-toggleable__control:checked~div.sk-toggleable__content {max-height: 200px;max-width: 100%;overflow: auto;}#sk-container-id-4 input.sk-toggleable__control:checked~label.sk-toggleable__label-arrow:before {content: \"▾\";}#sk-container-id-4 div.sk-estimator input.sk-toggleable__control:checked~label.sk-toggleable__label {background-color: #d4ebff;}#sk-container-id-4 div.sk-label input.sk-toggleable__control:checked~label.sk-toggleable__label {background-color: #d4ebff;}#sk-container-id-4 input.sk-hidden--visually {border: 0;clip: rect(1px 1px 1px 1px);clip: rect(1px, 1px, 1px, 1px);height: 1px;margin: -1px;overflow: hidden;padding: 0;position: absolute;width: 1px;}#sk-container-id-4 div.sk-estimator {font-family: monospace;background-color: #f0f8ff;border: 1px dotted black;border-radius: 0.25em;box-sizing: border-box;margin-bottom: 0.5em;}#sk-container-id-4 div.sk-estimator:hover {background-color: #d4ebff;}#sk-container-id-4 div.sk-parallel-item::after {content: \"\";width: 100%;border-bottom: 1px solid gray;flex-grow: 1;}#sk-container-id-4 div.sk-label:hover label.sk-toggleable__label {background-color: #d4ebff;}#sk-container-id-4 div.sk-serial::before {content: \"\";position: absolute;border-left: 1px solid gray;box-sizing: border-box;top: 0;bottom: 0;left: 50%;z-index: 0;}#sk-container-id-4 div.sk-serial {display: flex;flex-direction: column;align-items: center;background-color: white;padding-right: 0.2em;padding-left: 0.2em;position: relative;}#sk-container-id-4 div.sk-item {position: relative;z-index: 1;}#sk-container-id-4 div.sk-parallel {display: flex;align-items: stretch;justify-content: center;background-color: white;position: relative;}#sk-container-id-4 div.sk-item::before, #sk-container-id-4 div.sk-parallel-item::before {content: \"\";position: absolute;border-left: 1px solid gray;box-sizing: border-box;top: 0;bottom: 0;left: 50%;z-index: -1;}#sk-container-id-4 div.sk-parallel-item {display: flex;flex-direction: column;z-index: 1;position: relative;background-color: white;}#sk-container-id-4 div.sk-parallel-item:first-child::after {align-self: flex-end;width: 50%;}#sk-container-id-4 div.sk-parallel-item:last-child::after {align-self: flex-start;width: 50%;}#sk-container-id-4 div.sk-parallel-item:only-child::after {width: 0;}#sk-container-id-4 div.sk-dashed-wrapped {border: 1px dashed gray;margin: 0 0.4em 0.5em 0.4em;box-sizing: border-box;padding-bottom: 0.4em;background-color: white;}#sk-container-id-4 div.sk-label label {font-family: monospace;font-weight: bold;display: inline-block;line-height: 1.2em;}#sk-container-id-4 div.sk-label-container {text-align: center;}#sk-container-id-4 div.sk-container {/* jupyter's `normalize.less` sets `[hidden] { display: none; }` but bootstrap.min.css set `[hidden] { display: none !important; }` so we also need the `!important` here to be able to override the default hidden behavior on the sphinx rendered scikit-learn.org. See: https://github.com/scikit-learn/scikit-learn/issues/21755 */display: inline-block !important;position: relative;}#sk-container-id-4 div.sk-text-repr-fallback {display: none;}</style><div id=\"sk-container-id-4\" class=\"sk-top-container\"><div class=\"sk-text-repr-fallback\"><pre>RandomForestClassifier()</pre><b>In a Jupyter environment, please rerun this cell to show the HTML representation or trust the notebook. <br />On GitHub, the HTML representation is unable to render, please try loading this page with nbviewer.org.</b></div><div class=\"sk-container\" hidden><div class=\"sk-item\"><div class=\"sk-estimator sk-toggleable\"><input class=\"sk-toggleable__control sk-hidden--visually\" id=\"sk-estimator-id-4\" type=\"checkbox\" checked><label for=\"sk-estimator-id-4\" class=\"sk-toggleable__label sk-toggleable__label-arrow\">RandomForestClassifier</label><div class=\"sk-toggleable__content\"><pre>RandomForestClassifier()</pre></div></div></div></div></div>"
      ],
      "text/plain": [
       "RandomForestClassifier()"
      ]
     },
     "execution_count": 53,
     "metadata": {},
     "output_type": "execute_result"
    }
   ],
   "source": [
    "r.fit(x_train,y_train)"
   ]
  },
  {
   "cell_type": "code",
   "execution_count": 54,
   "id": "54fb041b",
   "metadata": {},
   "outputs": [],
   "source": [
    "tahmin4=r.predict(x_test)"
   ]
  },
  {
   "cell_type": "code",
   "execution_count": 55,
   "id": "c31c4566",
   "metadata": {},
   "outputs": [
    {
     "data": {
      "text/plain": [
       "0.847559196062027"
      ]
     },
     "execution_count": 55,
     "metadata": {},
     "output_type": "execute_result"
    }
   ],
   "source": [
    "accuracy_score(tahmin4,y_test)"
   ]
  },
  {
   "cell_type": "code",
   "execution_count": 56,
   "id": "e9ae5eb0",
   "metadata": {},
   "outputs": [
    {
     "data": {
      "text/html": [
       "<style>#sk-container-id-5 {color: black;background-color: white;}#sk-container-id-5 pre{padding: 0;}#sk-container-id-5 div.sk-toggleable {background-color: white;}#sk-container-id-5 label.sk-toggleable__label {cursor: pointer;display: block;width: 100%;margin-bottom: 0;padding: 0.3em;box-sizing: border-box;text-align: center;}#sk-container-id-5 label.sk-toggleable__label-arrow:before {content: \"▸\";float: left;margin-right: 0.25em;color: #696969;}#sk-container-id-5 label.sk-toggleable__label-arrow:hover:before {color: black;}#sk-container-id-5 div.sk-estimator:hover label.sk-toggleable__label-arrow:before {color: black;}#sk-container-id-5 div.sk-toggleable__content {max-height: 0;max-width: 0;overflow: hidden;text-align: left;background-color: #f0f8ff;}#sk-container-id-5 div.sk-toggleable__content pre {margin: 0.2em;color: black;border-radius: 0.25em;background-color: #f0f8ff;}#sk-container-id-5 input.sk-toggleable__control:checked~div.sk-toggleable__content {max-height: 200px;max-width: 100%;overflow: auto;}#sk-container-id-5 input.sk-toggleable__control:checked~label.sk-toggleable__label-arrow:before {content: \"▾\";}#sk-container-id-5 div.sk-estimator input.sk-toggleable__control:checked~label.sk-toggleable__label {background-color: #d4ebff;}#sk-container-id-5 div.sk-label input.sk-toggleable__control:checked~label.sk-toggleable__label {background-color: #d4ebff;}#sk-container-id-5 input.sk-hidden--visually {border: 0;clip: rect(1px 1px 1px 1px);clip: rect(1px, 1px, 1px, 1px);height: 1px;margin: -1px;overflow: hidden;padding: 0;position: absolute;width: 1px;}#sk-container-id-5 div.sk-estimator {font-family: monospace;background-color: #f0f8ff;border: 1px dotted black;border-radius: 0.25em;box-sizing: border-box;margin-bottom: 0.5em;}#sk-container-id-5 div.sk-estimator:hover {background-color: #d4ebff;}#sk-container-id-5 div.sk-parallel-item::after {content: \"\";width: 100%;border-bottom: 1px solid gray;flex-grow: 1;}#sk-container-id-5 div.sk-label:hover label.sk-toggleable__label {background-color: #d4ebff;}#sk-container-id-5 div.sk-serial::before {content: \"\";position: absolute;border-left: 1px solid gray;box-sizing: border-box;top: 0;bottom: 0;left: 50%;z-index: 0;}#sk-container-id-5 div.sk-serial {display: flex;flex-direction: column;align-items: center;background-color: white;padding-right: 0.2em;padding-left: 0.2em;position: relative;}#sk-container-id-5 div.sk-item {position: relative;z-index: 1;}#sk-container-id-5 div.sk-parallel {display: flex;align-items: stretch;justify-content: center;background-color: white;position: relative;}#sk-container-id-5 div.sk-item::before, #sk-container-id-5 div.sk-parallel-item::before {content: \"\";position: absolute;border-left: 1px solid gray;box-sizing: border-box;top: 0;bottom: 0;left: 50%;z-index: -1;}#sk-container-id-5 div.sk-parallel-item {display: flex;flex-direction: column;z-index: 1;position: relative;background-color: white;}#sk-container-id-5 div.sk-parallel-item:first-child::after {align-self: flex-end;width: 50%;}#sk-container-id-5 div.sk-parallel-item:last-child::after {align-self: flex-start;width: 50%;}#sk-container-id-5 div.sk-parallel-item:only-child::after {width: 0;}#sk-container-id-5 div.sk-dashed-wrapped {border: 1px dashed gray;margin: 0 0.4em 0.5em 0.4em;box-sizing: border-box;padding-bottom: 0.4em;background-color: white;}#sk-container-id-5 div.sk-label label {font-family: monospace;font-weight: bold;display: inline-block;line-height: 1.2em;}#sk-container-id-5 div.sk-label-container {text-align: center;}#sk-container-id-5 div.sk-container {/* jupyter's `normalize.less` sets `[hidden] { display: none; }` but bootstrap.min.css set `[hidden] { display: none !important; }` so we also need the `!important` here to be able to override the default hidden behavior on the sphinx rendered scikit-learn.org. See: https://github.com/scikit-learn/scikit-learn/issues/21755 */display: inline-block !important;position: relative;}#sk-container-id-5 div.sk-text-repr-fallback {display: none;}</style><div id=\"sk-container-id-5\" class=\"sk-top-container\"><div class=\"sk-text-repr-fallback\"><pre>BernoulliNB()</pre><b>In a Jupyter environment, please rerun this cell to show the HTML representation or trust the notebook. <br />On GitHub, the HTML representation is unable to render, please try loading this page with nbviewer.org.</b></div><div class=\"sk-container\" hidden><div class=\"sk-item\"><div class=\"sk-estimator sk-toggleable\"><input class=\"sk-toggleable__control sk-hidden--visually\" id=\"sk-estimator-id-5\" type=\"checkbox\" checked><label for=\"sk-estimator-id-5\" class=\"sk-toggleable__label sk-toggleable__label-arrow\">BernoulliNB</label><div class=\"sk-toggleable__content\"><pre>BernoulliNB()</pre></div></div></div></div></div>"
      ],
      "text/plain": [
       "BernoulliNB()"
      ]
     },
     "execution_count": 56,
     "metadata": {},
     "output_type": "execute_result"
    }
   ],
   "source": [
    "b.fit(x_train,y_train)"
   ]
  },
  {
   "cell_type": "code",
   "execution_count": 57,
   "id": "088a7788",
   "metadata": {},
   "outputs": [],
   "source": [
    "tahmin5=b.predict(x_test)"
   ]
  },
  {
   "cell_type": "code",
   "execution_count": 58,
   "id": "580712aa",
   "metadata": {},
   "outputs": [
    {
     "data": {
      "text/plain": [
       "0.6917913496896706"
      ]
     },
     "execution_count": 58,
     "metadata": {},
     "output_type": "execute_result"
    }
   ],
   "source": [
    "accuracy_score(tahmin5,y_test)"
   ]
  },
  {
   "cell_type": "code",
   "execution_count": 59,
   "id": "e3d57a50",
   "metadata": {},
   "outputs": [
    {
     "data": {
      "text/html": [
       "<style>#sk-container-id-6 {color: black;background-color: white;}#sk-container-id-6 pre{padding: 0;}#sk-container-id-6 div.sk-toggleable {background-color: white;}#sk-container-id-6 label.sk-toggleable__label {cursor: pointer;display: block;width: 100%;margin-bottom: 0;padding: 0.3em;box-sizing: border-box;text-align: center;}#sk-container-id-6 label.sk-toggleable__label-arrow:before {content: \"▸\";float: left;margin-right: 0.25em;color: #696969;}#sk-container-id-6 label.sk-toggleable__label-arrow:hover:before {color: black;}#sk-container-id-6 div.sk-estimator:hover label.sk-toggleable__label-arrow:before {color: black;}#sk-container-id-6 div.sk-toggleable__content {max-height: 0;max-width: 0;overflow: hidden;text-align: left;background-color: #f0f8ff;}#sk-container-id-6 div.sk-toggleable__content pre {margin: 0.2em;color: black;border-radius: 0.25em;background-color: #f0f8ff;}#sk-container-id-6 input.sk-toggleable__control:checked~div.sk-toggleable__content {max-height: 200px;max-width: 100%;overflow: auto;}#sk-container-id-6 input.sk-toggleable__control:checked~label.sk-toggleable__label-arrow:before {content: \"▾\";}#sk-container-id-6 div.sk-estimator input.sk-toggleable__control:checked~label.sk-toggleable__label {background-color: #d4ebff;}#sk-container-id-6 div.sk-label input.sk-toggleable__control:checked~label.sk-toggleable__label {background-color: #d4ebff;}#sk-container-id-6 input.sk-hidden--visually {border: 0;clip: rect(1px 1px 1px 1px);clip: rect(1px, 1px, 1px, 1px);height: 1px;margin: -1px;overflow: hidden;padding: 0;position: absolute;width: 1px;}#sk-container-id-6 div.sk-estimator {font-family: monospace;background-color: #f0f8ff;border: 1px dotted black;border-radius: 0.25em;box-sizing: border-box;margin-bottom: 0.5em;}#sk-container-id-6 div.sk-estimator:hover {background-color: #d4ebff;}#sk-container-id-6 div.sk-parallel-item::after {content: \"\";width: 100%;border-bottom: 1px solid gray;flex-grow: 1;}#sk-container-id-6 div.sk-label:hover label.sk-toggleable__label {background-color: #d4ebff;}#sk-container-id-6 div.sk-serial::before {content: \"\";position: absolute;border-left: 1px solid gray;box-sizing: border-box;top: 0;bottom: 0;left: 50%;z-index: 0;}#sk-container-id-6 div.sk-serial {display: flex;flex-direction: column;align-items: center;background-color: white;padding-right: 0.2em;padding-left: 0.2em;position: relative;}#sk-container-id-6 div.sk-item {position: relative;z-index: 1;}#sk-container-id-6 div.sk-parallel {display: flex;align-items: stretch;justify-content: center;background-color: white;position: relative;}#sk-container-id-6 div.sk-item::before, #sk-container-id-6 div.sk-parallel-item::before {content: \"\";position: absolute;border-left: 1px solid gray;box-sizing: border-box;top: 0;bottom: 0;left: 50%;z-index: -1;}#sk-container-id-6 div.sk-parallel-item {display: flex;flex-direction: column;z-index: 1;position: relative;background-color: white;}#sk-container-id-6 div.sk-parallel-item:first-child::after {align-self: flex-end;width: 50%;}#sk-container-id-6 div.sk-parallel-item:last-child::after {align-self: flex-start;width: 50%;}#sk-container-id-6 div.sk-parallel-item:only-child::after {width: 0;}#sk-container-id-6 div.sk-dashed-wrapped {border: 1px dashed gray;margin: 0 0.4em 0.5em 0.4em;box-sizing: border-box;padding-bottom: 0.4em;background-color: white;}#sk-container-id-6 div.sk-label label {font-family: monospace;font-weight: bold;display: inline-block;line-height: 1.2em;}#sk-container-id-6 div.sk-label-container {text-align: center;}#sk-container-id-6 div.sk-container {/* jupyter's `normalize.less` sets `[hidden] { display: none; }` but bootstrap.min.css set `[hidden] { display: none !important; }` so we also need the `!important` here to be able to override the default hidden behavior on the sphinx rendered scikit-learn.org. See: https://github.com/scikit-learn/scikit-learn/issues/21755 */display: inline-block !important;position: relative;}#sk-container-id-6 div.sk-text-repr-fallback {display: none;}</style><div id=\"sk-container-id-6\" class=\"sk-top-container\"><div class=\"sk-text-repr-fallback\"><pre>GradientBoostingClassifier()</pre><b>In a Jupyter environment, please rerun this cell to show the HTML representation or trust the notebook. <br />On GitHub, the HTML representation is unable to render, please try loading this page with nbviewer.org.</b></div><div class=\"sk-container\" hidden><div class=\"sk-item\"><div class=\"sk-estimator sk-toggleable\"><input class=\"sk-toggleable__control sk-hidden--visually\" id=\"sk-estimator-id-6\" type=\"checkbox\" checked><label for=\"sk-estimator-id-6\" class=\"sk-toggleable__label sk-toggleable__label-arrow\">GradientBoostingClassifier</label><div class=\"sk-toggleable__content\"><pre>GradientBoostingClassifier()</pre></div></div></div></div></div>"
      ],
      "text/plain": [
       "GradientBoostingClassifier()"
      ]
     },
     "execution_count": 59,
     "metadata": {},
     "output_type": "execute_result"
    }
   ],
   "source": [
    "gb.fit(x_train,y_train)"
   ]
  },
  {
   "cell_type": "code",
   "execution_count": 60,
   "id": "85b4a59f",
   "metadata": {},
   "outputs": [],
   "source": [
    "tahmin6=gb.predict(x_test)"
   ]
  },
  {
   "cell_type": "code",
   "execution_count": 61,
   "id": "696cbc8e",
   "metadata": {},
   "outputs": [
    {
     "data": {
      "text/plain": [
       "0.7625931474599685"
      ]
     },
     "execution_count": 61,
     "metadata": {},
     "output_type": "execute_result"
    }
   ],
   "source": [
    "accuracy_score(tahmin6,y_test)"
   ]
  },
  {
   "cell_type": "code",
   "execution_count": 62,
   "id": "3e6ad77b",
   "metadata": {},
   "outputs": [],
   "source": [
    " from sklearn.neighbors import KNeighborsClassifier"
   ]
  },
  {
   "cell_type": "code",
   "execution_count": 63,
   "id": "25a06839",
   "metadata": {},
   "outputs": [],
   "source": [
    "k=KNeighborsClassifier()"
   ]
  },
  {
   "cell_type": "code",
   "execution_count": 64,
   "id": "11384d52",
   "metadata": {},
   "outputs": [
    {
     "data": {
      "text/html": [
       "<style>#sk-container-id-7 {color: black;background-color: white;}#sk-container-id-7 pre{padding: 0;}#sk-container-id-7 div.sk-toggleable {background-color: white;}#sk-container-id-7 label.sk-toggleable__label {cursor: pointer;display: block;width: 100%;margin-bottom: 0;padding: 0.3em;box-sizing: border-box;text-align: center;}#sk-container-id-7 label.sk-toggleable__label-arrow:before {content: \"▸\";float: left;margin-right: 0.25em;color: #696969;}#sk-container-id-7 label.sk-toggleable__label-arrow:hover:before {color: black;}#sk-container-id-7 div.sk-estimator:hover label.sk-toggleable__label-arrow:before {color: black;}#sk-container-id-7 div.sk-toggleable__content {max-height: 0;max-width: 0;overflow: hidden;text-align: left;background-color: #f0f8ff;}#sk-container-id-7 div.sk-toggleable__content pre {margin: 0.2em;color: black;border-radius: 0.25em;background-color: #f0f8ff;}#sk-container-id-7 input.sk-toggleable__control:checked~div.sk-toggleable__content {max-height: 200px;max-width: 100%;overflow: auto;}#sk-container-id-7 input.sk-toggleable__control:checked~label.sk-toggleable__label-arrow:before {content: \"▾\";}#sk-container-id-7 div.sk-estimator input.sk-toggleable__control:checked~label.sk-toggleable__label {background-color: #d4ebff;}#sk-container-id-7 div.sk-label input.sk-toggleable__control:checked~label.sk-toggleable__label {background-color: #d4ebff;}#sk-container-id-7 input.sk-hidden--visually {border: 0;clip: rect(1px 1px 1px 1px);clip: rect(1px, 1px, 1px, 1px);height: 1px;margin: -1px;overflow: hidden;padding: 0;position: absolute;width: 1px;}#sk-container-id-7 div.sk-estimator {font-family: monospace;background-color: #f0f8ff;border: 1px dotted black;border-radius: 0.25em;box-sizing: border-box;margin-bottom: 0.5em;}#sk-container-id-7 div.sk-estimator:hover {background-color: #d4ebff;}#sk-container-id-7 div.sk-parallel-item::after {content: \"\";width: 100%;border-bottom: 1px solid gray;flex-grow: 1;}#sk-container-id-7 div.sk-label:hover label.sk-toggleable__label {background-color: #d4ebff;}#sk-container-id-7 div.sk-serial::before {content: \"\";position: absolute;border-left: 1px solid gray;box-sizing: border-box;top: 0;bottom: 0;left: 50%;z-index: 0;}#sk-container-id-7 div.sk-serial {display: flex;flex-direction: column;align-items: center;background-color: white;padding-right: 0.2em;padding-left: 0.2em;position: relative;}#sk-container-id-7 div.sk-item {position: relative;z-index: 1;}#sk-container-id-7 div.sk-parallel {display: flex;align-items: stretch;justify-content: center;background-color: white;position: relative;}#sk-container-id-7 div.sk-item::before, #sk-container-id-7 div.sk-parallel-item::before {content: \"\";position: absolute;border-left: 1px solid gray;box-sizing: border-box;top: 0;bottom: 0;left: 50%;z-index: -1;}#sk-container-id-7 div.sk-parallel-item {display: flex;flex-direction: column;z-index: 1;position: relative;background-color: white;}#sk-container-id-7 div.sk-parallel-item:first-child::after {align-self: flex-end;width: 50%;}#sk-container-id-7 div.sk-parallel-item:last-child::after {align-self: flex-start;width: 50%;}#sk-container-id-7 div.sk-parallel-item:only-child::after {width: 0;}#sk-container-id-7 div.sk-dashed-wrapped {border: 1px dashed gray;margin: 0 0.4em 0.5em 0.4em;box-sizing: border-box;padding-bottom: 0.4em;background-color: white;}#sk-container-id-7 div.sk-label label {font-family: monospace;font-weight: bold;display: inline-block;line-height: 1.2em;}#sk-container-id-7 div.sk-label-container {text-align: center;}#sk-container-id-7 div.sk-container {/* jupyter's `normalize.less` sets `[hidden] { display: none; }` but bootstrap.min.css set `[hidden] { display: none !important; }` so we also need the `!important` here to be able to override the default hidden behavior on the sphinx rendered scikit-learn.org. See: https://github.com/scikit-learn/scikit-learn/issues/21755 */display: inline-block !important;position: relative;}#sk-container-id-7 div.sk-text-repr-fallback {display: none;}</style><div id=\"sk-container-id-7\" class=\"sk-top-container\"><div class=\"sk-text-repr-fallback\"><pre>KNeighborsClassifier()</pre><b>In a Jupyter environment, please rerun this cell to show the HTML representation or trust the notebook. <br />On GitHub, the HTML representation is unable to render, please try loading this page with nbviewer.org.</b></div><div class=\"sk-container\" hidden><div class=\"sk-item\"><div class=\"sk-estimator sk-toggleable\"><input class=\"sk-toggleable__control sk-hidden--visually\" id=\"sk-estimator-id-7\" type=\"checkbox\" checked><label for=\"sk-estimator-id-7\" class=\"sk-toggleable__label sk-toggleable__label-arrow\">KNeighborsClassifier</label><div class=\"sk-toggleable__content\"><pre>KNeighborsClassifier()</pre></div></div></div></div></div>"
      ],
      "text/plain": [
       "KNeighborsClassifier()"
      ]
     },
     "execution_count": 64,
     "metadata": {},
     "output_type": "execute_result"
    }
   ],
   "source": [
    "k.fit(x_train,y_train)"
   ]
  },
  {
   "cell_type": "code",
   "execution_count": 65,
   "id": "7c539220",
   "metadata": {},
   "outputs": [],
   "source": [
    "tahmin7=k.predict(x_test)"
   ]
  },
  {
   "cell_type": "code",
   "execution_count": 66,
   "id": "333e1218",
   "metadata": {},
   "outputs": [
    {
     "data": {
      "text/plain": [
       "0.7195361596980369"
      ]
     },
     "execution_count": 66,
     "metadata": {},
     "output_type": "execute_result"
    }
   ],
   "source": [
    "accuracy_score(tahmin7,y_test)"
   ]
  },
  {
   "cell_type": "code",
   "execution_count": null,
   "id": "ee5df409",
   "metadata": {},
   "outputs": [],
   "source": []
  }
 ],
 "metadata": {
  "kernelspec": {
   "display_name": "Python 3 (ipykernel)",
   "language": "python",
   "name": "python3"
  },
  "language_info": {
   "codemirror_mode": {
    "name": "ipython",
    "version": 3
   },
   "file_extension": ".py",
   "mimetype": "text/x-python",
   "name": "python",
   "nbconvert_exporter": "python",
   "pygments_lexer": "ipython3",
   "version": "3.11.3"
  }
 },
 "nbformat": 4,
 "nbformat_minor": 5
}
